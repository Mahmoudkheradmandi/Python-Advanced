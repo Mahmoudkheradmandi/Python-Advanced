{
 "cells": [
  {
   "cell_type": "code",
   "execution_count": 13,
   "metadata": {},
   "outputs": [],
   "source": [
    "def task_1():\n",
    "    print(\"task_one 1 <==\")\n",
    "    print(\"task_one 2 <==\")\n",
    "    print(\"task_one 3 <==\")\n",
    "    print(\"task_one 4 <==\")\n",
    "    print(\"task_one 5 <==\")\n",
    "\n",
    "def task_2():\n",
    "    print(\"task_two ->  1\")\n",
    "    print(\"task_two ->  2\")\n",
    "    print(\"task_two ->  3\")\n",
    "    print(\"task_two ->  4\")\n",
    "    print(\"task_two ->  5\")\n",
    "    print(\"task_two ->  6\")\n",
    "    print(\"task_two ->  7\")\n",
    "    print(\"task_two ->  8\")"
   ]
  },
  {
   "cell_type": "code",
   "execution_count": 14,
   "metadata": {},
   "outputs": [
    {
     "name": "stdout",
     "output_type": "stream",
     "text": [
      "task_one 1 <==\n",
      "task_one 2 <==\n",
      "task_one 3 <==\n",
      "task_one 4 <==\n",
      "task_one 5 <==\n",
      "task_two ->  1\n",
      "task_two ->  2\n",
      "task_two ->  3\n",
      "task_two ->  4\n",
      "task_two ->  5\n",
      "task_two ->  6\n",
      "task_two ->  7\n",
      "task_two ->  8\n"
     ]
    }
   ],
   "source": [
    "task_1()\n",
    "task_2()"
   ]
  },
  {
   "cell_type": "code",
   "execution_count": 7,
   "metadata": {},
   "outputs": [],
   "source": [
    "import threading"
   ]
  },
  {
   "cell_type": "code",
   "execution_count": 15,
   "metadata": {},
   "outputs": [
    {
     "name": "stdout",
     "output_type": "stream",
     "text": [
      "task_one 1 <==\n",
      "task_one 2 <==\n",
      "task_one 3 <==\n",
      "task_one 4 <==\n",
      "task_one 5 <==\n",
      "task_two ->  1\n",
      "task_two ->  2\n",
      "task_two ->  3\n",
      "task_two ->  4\n",
      "task_two ->  5\n",
      "task_two ->  6\n",
      "task_two ->  7\n",
      "task_two ->  8\n"
     ]
    }
   ],
   "source": [
    "task1 = threading.Thread(target=task_1)\n",
    "task2 = threading.Thread(target=task_2)\n",
    "\n",
    "task1.start()\n",
    "task2.start()\n",
    "\n",
    "task1.join()\n",
    "task2.join()"
   ]
  },
  {
   "cell_type": "code",
   "execution_count": 9,
   "metadata": {},
   "outputs": [],
   "source": [
    "import time"
   ]
  },
  {
   "cell_type": "code",
   "execution_count": 17,
   "metadata": {},
   "outputs": [],
   "source": [
    "def task_3():\n",
    "    print(\"task_three --->  1\")\n",
    "    print(\"task_three --->  2\")\n",
    "    print(\"task_three --->  3\")\n",
    "    print(\"task_three --->  4\")\n",
    "    time.sleep(2)\n",
    "    print(\"task_three --->  5\")\n",
    "    print(\"task_three --->  6\")\n"
   ]
  },
  {
   "cell_type": "code",
   "execution_count": 18,
   "metadata": {},
   "outputs": [
    {
     "name": "stdout",
     "output_type": "stream",
     "text": [
      "task_three --->  1\n",
      "task_three --->  2\n",
      "task_three --->  3\n",
      "task_three --->  4\n",
      "task_one 1 <==\n",
      "task_one 2 <==\n",
      "task_one 3 <==\n",
      "task_one 4 <==\n",
      "task_one 5 <==\n",
      "task_two ->  1\n",
      "task_two ->  2\n",
      "task_two ->  3\n",
      "task_two ->  4\n",
      "task_two ->  5\n",
      "task_two ->  6\n",
      "task_two ->  7\n",
      "task_two ->  8\n",
      "task_three --->  5\n",
      "task_three --->  6\n"
     ]
    }
   ],
   "source": [
    "task = threading.Thread(target=task_3)\n",
    "task1 = threading.Thread(target=task_1)\n",
    "task2 = threading.Thread(target=task_2)\n",
    "\n",
    "task.start()\n",
    "task1.start()\n",
    "task2.start()\n",
    "\n",
    "task.join()\n",
    "task1.join()\n",
    "task2.join()"
   ]
  },
  {
   "cell_type": "code",
   "execution_count": 33,
   "metadata": {},
   "outputs": [],
   "source": [
    " # task.join()\n",
    " \n",
    "def task_4():\n",
    "    print(\"task_four --->  1\")\n",
    "    print(\"task_four --->  2\")\n",
    "    print(\"task_four --->  3\")\n",
    "    print(\"task_four --->  4\")\n",
    "    time.sleep(2)\n",
    "    print(\"task_four --->  5\")\n"
   ]
  },
  {
   "cell_type": "code",
   "execution_count": 30,
   "metadata": {},
   "outputs": [
    {
     "name": "stdout",
     "output_type": "stream",
     "text": [
      "task_four --->  1\n",
      "task_four --->  2\n",
      "task_four --->  3\n",
      "task_four --->  4\n",
      "finished\n"
     ]
    },
    {
     "name": "stdout",
     "output_type": "stream",
     "text": [
      "task_four --->  5\n"
     ]
    }
   ],
   "source": [
    " # task.join()\n",
    " \n",
    "task_4 = threading.Thread(target=task_4)\n",
    "task_4.start()\n",
    "print('finished')"
   ]
  },
  {
   "cell_type": "code",
   "execution_count": null,
   "metadata": {},
   "outputs": [],
   "source": []
  },
  {
   "cell_type": "code",
   "execution_count": 34,
   "metadata": {},
   "outputs": [
    {
     "name": "stdout",
     "output_type": "stream",
     "text": [
      "task_four --->  1\n",
      "task_four --->  2\n",
      "task_four --->  3\n",
      "task_four --->  4\n",
      "task_four --->  5\n",
      "finished\n"
     ]
    }
   ],
   "source": [
    " # task.join()\n",
    " \n",
    "task_4 = threading.Thread(target=task_4)\n",
    "task_4.start()\n",
    "task_4.join()\n",
    "print('finished')"
   ]
  },
  {
   "cell_type": "code",
   "execution_count": null,
   "metadata": {},
   "outputs": [],
   "source": []
  }
 ],
 "metadata": {
  "kernelspec": {
   "display_name": "base",
   "language": "python",
   "name": "python3"
  },
  "language_info": {
   "codemirror_mode": {
    "name": "ipython",
    "version": 3
   },
   "file_extension": ".py",
   "mimetype": "text/x-python",
   "name": "python",
   "nbconvert_exporter": "python",
   "pygments_lexer": "ipython3",
   "version": "3.12.7"
  }
 },
 "nbformat": 4,
 "nbformat_minor": 2
}
