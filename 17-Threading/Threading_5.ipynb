{
 "cells": [
  {
   "cell_type": "markdown",
   "metadata": {},
   "source": [
    "# if need give return for Threading with (Threading)"
   ]
  },
  {
   "cell_type": "code",
   "execution_count": 1,
   "metadata": {},
   "outputs": [],
   "source": [
    "import time\n",
    "import threading"
   ]
  },
  {
   "cell_type": "code",
   "execution_count": 2,
   "metadata": {},
   "outputs": [],
   "source": [
    "def somthing(second , results , index): \n",
    "    \n",
    "    print (f'Going to sleep for : {second} second(s)')\n",
    "    time.sleep(second)\n",
    "    results[index] = f'Finished sleeping for :  {second} second(s)'\n",
    "    "
   ]
  },
  {
   "cell_type": "code",
   "execution_count": 3,
   "metadata": {},
   "outputs": [
    {
     "name": "stdout",
     "output_type": "stream",
     "text": [
      "Going to sleep for : 7 second(s)\n",
      "Going to sleep for : 4 second(s)\n",
      "Going to sleep for : 9 second(s)\n",
      "Going to sleep for : 10 second(s)\n",
      "Going to sleep for : 12 second(s)\n",
      "Going to sleep for : 1 second(s)\n",
      "['Finished sleeping for :  7 second(s)', 'Finished sleeping for :  4 second(s)', 'Finished sleeping for :  9 second(s)', 'Finished sleeping for :  10 second(s)', 'Finished sleeping for :  12 second(s)', 'Finished sleeping for :  1 second(s)']\n"
     ]
    }
   ],
   "source": [
    "nums = [7,4,9,10,12,1]\n",
    "results = [None] * 6\n",
    "tasks = []\n",
    "for i in range(6):\n",
    "    task = threading.Thread(target=somthing , args=(nums[i] , results , i))\n",
    "    task.start()\n",
    "    tasks.append(task)\n",
    "\n",
    "for task in tasks: \n",
    "    task.join()\n",
    "    \n",
    "print(results)            "
   ]
  },
  {
   "cell_type": "code",
   "execution_count": null,
   "metadata": {},
   "outputs": [],
   "source": []
  }
 ],
 "metadata": {
  "kernelspec": {
   "display_name": "base",
   "language": "python",
   "name": "python3"
  },
  "language_info": {
   "codemirror_mode": {
    "name": "ipython",
    "version": 3
   },
   "file_extension": ".py",
   "mimetype": "text/x-python",
   "name": "python",
   "nbconvert_exporter": "python",
   "pygments_lexer": "ipython3",
   "version": "3.12.7"
  }
 },
 "nbformat": 4,
 "nbformat_minor": 2
}
