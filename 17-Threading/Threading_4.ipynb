{
 "cells": [
  {
   "cell_type": "markdown",
   "metadata": {},
   "source": [
    "# if need give return for Threading with (Concurrent)"
   ]
  },
  {
   "cell_type": "code",
   "execution_count": 8,
   "metadata": {},
   "outputs": [],
   "source": [
    "import time\n",
    "import concurrent.futures"
   ]
  },
  {
   "cell_type": "code",
   "execution_count": 6,
   "metadata": {},
   "outputs": [],
   "source": [
    "def somthing(second): \n",
    "    print (f'Going to sleep for : {second} second(s)')\n",
    "    time.sleep(second)\n",
    "    return f'Finished sleeping for :  {second} second(s)'"
   ]
  },
  {
   "cell_type": "code",
   "execution_count": 7,
   "metadata": {},
   "outputs": [
    {
     "name": "stdout",
     "output_type": "stream",
     "text": [
      "Going to sleep for : 5 second(s)Going to sleep for : 3 second(s)\n",
      "\n",
      "Going to sleep for : 8 second(s)\n",
      "Going to sleep for : 1 second(s)\n",
      "Going to sleep for : 3 second(s)\n",
      "Going to sleep for : 9 second(s)\n",
      "Going to sleep for : 2 second(s)\n",
      "Finished sleeping for :  1 second(s)\n",
      "Finished sleeping for :  2 second(s)\n",
      "Finished sleeping for :  3 second(s)\n",
      "Finished sleeping for :  3 second(s)\n",
      "Finished sleeping for :  5 second(s)\n",
      "Finished sleeping for :  8 second(s)\n",
      "Finished sleeping for :  9 second(s)\n",
      "Took 9.01 second(s).\n"
     ]
    }
   ],
   "source": [
    "start = time.time()\n",
    "with concurrent.futures.ThreadPoolExecutor() as executer : \n",
    "    secnds = [5,3,8,1,3,9,2]\n",
    "    tasks = [executer.submit(somthing , sec) for sec in secnds]\n",
    "    \n",
    "    for task in concurrent.futures.as_completed(tasks):\n",
    "        print(task.result()) # task.join\n",
    "\n",
    "print('Took' , round(time.time() - start , 2) , 'second(s).')"
   ]
  },
  {
   "cell_type": "code",
   "execution_count": 9,
   "metadata": {},
   "outputs": [
    {
     "name": "stdout",
     "output_type": "stream",
     "text": [
      "Going to sleep for : 5 second(s)\n",
      "Going to sleep for : 3 second(s)\n",
      "Going to sleep for : 8 second(s)\n",
      "Going to sleep for : 1 second(s)\n",
      "Going to sleep for : 3 second(s)\n",
      "Going to sleep for : 9 second(s)\n",
      "Going to sleep for : 2 second(s)\n",
      "Finished sleeping for :  5 second(s)\n",
      "Finished sleeping for :  3 second(s)\n",
      "Finished sleeping for :  8 second(s)\n",
      "Finished sleeping for :  1 second(s)\n",
      "Finished sleeping for :  3 second(s)\n",
      "Finished sleeping for :  9 second(s)\n",
      "Finished sleeping for :  2 second(s)\n",
      "Took 9.01 second(s).\n"
     ]
    }
   ],
   "source": [
    "start = time.time()\n",
    "with concurrent.futures.ThreadPoolExecutor() as executer : \n",
    "    secnds = [5,3,8,1,3,9,2]\n",
    "    tasks = executer.map(somthing , secnds)\n",
    "    \n",
    "    for task in tasks: \n",
    "        print(task)\n",
    "\n",
    "print('Took' , round(time.time() - start , 2) , 'second(s).')"
   ]
  },
  {
   "cell_type": "code",
   "execution_count": null,
   "metadata": {},
   "outputs": [],
   "source": []
  }
 ],
 "metadata": {
  "kernelspec": {
   "display_name": "base",
   "language": "python",
   "name": "python3"
  },
  "language_info": {
   "codemirror_mode": {
    "name": "ipython",
    "version": 3
   },
   "file_extension": ".py",
   "mimetype": "text/x-python",
   "name": "python",
   "nbconvert_exporter": "python",
   "pygments_lexer": "ipython3",
   "version": "3.12.7"
  }
 },
 "nbformat": 4,
 "nbformat_minor": 2
}
