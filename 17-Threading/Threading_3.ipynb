{
 "cells": [
  {
   "cell_type": "markdown",
   "metadata": {},
   "source": [
    "# Exp 3"
   ]
  },
  {
   "cell_type": "code",
   "execution_count": 3,
   "metadata": {},
   "outputs": [],
   "source": [
    "import time\n",
    "import threading\n",
    "import concurrent.futures"
   ]
  },
  {
   "cell_type": "code",
   "execution_count": 4,
   "metadata": {},
   "outputs": [],
   "source": [
    "def task_1(name):\n",
    "    print(f\"task_one-{name} # <== 1\")\n",
    "    print(f\"task_one-{name} # <== 2\")\n",
    "    print(f\"task_one-{name} # <== 3\")\n",
    "    time.sleep(2)\n",
    "    print(f\"task3one-{name} # <== 4\")\n",
    "    print(f\"task_one- ready# <== 5\")"
   ]
  },
  {
   "cell_type": "code",
   "execution_count": null,
   "metadata": {},
   "outputs": [],
   "source": [
    "start = time.time()\n",
    "with concurrent.futures.ThreadPoolExecutor() as executer : \n",
    "    task = executer.submit(task_1 , 'mahmood')\n",
    "    task.result() # task.join\n",
    "\n",
    "print('Took' , round(time.time() - start , 2) , 'second(s).')"
   ]
  },
  {
   "cell_type": "code",
   "execution_count": 5,
   "metadata": {},
   "outputs": [
    {
     "name": "stdout",
     "output_type": "stream",
     "text": [
      "task_one-ali # <== 1\n",
      "task_one-ali # <== 2\n",
      "task_one-ali # <== 3\n",
      "task_one-reza # <== 1\n",
      "task_one-reza # <== 2\n",
      "task_one-reza # <== 3\n",
      "task_one-ahmad # <== 1\n",
      "task_one-ahmad # <== 2\n",
      "task_one-ahmad # <== 3\n",
      "task3one-ali # <== 4\n",
      "task_one- ready# <== 5\n",
      "task3one-reza # <== 4\n",
      "task_one- ready# <== 5\n",
      "task3one-ahmad # <== 4\n",
      "task_one- ready# <== 5\n",
      "Took 2.01 second(s).\n"
     ]
    }
   ],
   "source": [
    "start = time.time()\n",
    "with concurrent.futures.ThreadPoolExecutor() as executer : \n",
    "    names = ['ali' , 'reza' , 'ahmad']\n",
    "    tasks = [executer.submit(task_1 , name) for name in names]\n",
    "    \n",
    "    for task in concurrent.futures.as_completed(tasks):\n",
    "        task.result() # task.join\n",
    "\n",
    "print('Took' , round(time.time() - start , 2) , 'second(s).')"
   ]
  },
  {
   "cell_type": "code",
   "execution_count": null,
   "metadata": {},
   "outputs": [],
   "source": []
  },
  {
   "cell_type": "code",
   "execution_count": null,
   "metadata": {},
   "outputs": [],
   "source": []
  }
 ],
 "metadata": {
  "kernelspec": {
   "display_name": "base",
   "language": "python",
   "name": "python3"
  },
  "language_info": {
   "codemirror_mode": {
    "name": "ipython",
    "version": 3
   },
   "file_extension": ".py",
   "mimetype": "text/x-python",
   "name": "python",
   "nbconvert_exporter": "python",
   "pygments_lexer": "ipython3",
   "version": "3.12.7"
  }
 },
 "nbformat": 4,
 "nbformat_minor": 2
}
