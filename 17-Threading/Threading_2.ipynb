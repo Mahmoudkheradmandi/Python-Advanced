{
 "cells": [
  {
   "cell_type": "markdown",
   "metadata": {},
   "source": [
    "# Exp 1"
   ]
  },
  {
   "cell_type": "code",
   "execution_count": 4,
   "metadata": {},
   "outputs": [],
   "source": [
    "import time\n",
    "import threading"
   ]
  },
  {
   "cell_type": "code",
   "execution_count": 7,
   "metadata": {},
   "outputs": [],
   "source": [
    "def task_1(name):\n",
    "    print(f\"task_one-{name} # <== 1\")\n",
    "    print(f\"task_one-{name} # <== 2\")\n",
    "    print(f\"task_one-{name} # <== 3\")\n",
    "    time.sleep(2)\n",
    "    print(f\"task3one-{name} # <== 4\")\n",
    "    print(f\"task_one-{name} # <== 5\")"
   ]
  },
  {
   "cell_type": "code",
   "execution_count": 8,
   "metadata": {},
   "outputs": [
    {
     "name": "stdout",
     "output_type": "stream",
     "text": [
      "task_one-mahmood # <== 1\n",
      "task_one-mahmood # <== 2\n",
      "task_one-mahmood # <== 3\n",
      "task3one-mahmood # <== 4\n",
      "task_one-mahmood # <== 5\n",
      "Took 2.01 second(s).\n"
     ]
    }
   ],
   "source": [
    "start = time.time()\n",
    "task = threading.Thread(target=task_1 , args=('mahmood' ,))\n",
    "\n",
    "task.start()\n",
    "\n",
    "task.join()\n",
    "print('Took' , round(time.time() - start , 2) , 'second(s).')"
   ]
  },
  {
   "cell_type": "markdown",
   "metadata": {},
   "source": [
    "# Exp 2"
   ]
  },
  {
   "cell_type": "code",
   "execution_count": 11,
   "metadata": {},
   "outputs": [
    {
     "name": "stdout",
     "output_type": "stream",
     "text": [
      "task_one-0 # <== 1\n",
      "task_one-0 # <== 2\n",
      "task_one-0 # <== 3\n",
      "task_one-1 # <== 1\n",
      "task_one-1 # <== 2\n",
      "task_one-1 # <== 3\n",
      "task_one-2 # <== 1\n",
      "task_one-2 # <== 2\n",
      "task_one-2 # <== 3\n",
      "task_one-3 # <== 1\n",
      "task_one-3 # <== 2\n",
      "task_one-3 # <== 3\n",
      "task_one-4 # <== 1\n",
      "task_one-4 # <== 2\n",
      "task_one-4 # <== 3\n",
      "task_one-5 # <== 1\n",
      "task_one-5 # <== 2\n",
      "task_one-5 # <== 3\n",
      "task_one-6 # <== 1\n",
      "task_one-6 # <== 2\n",
      "task_one-6 # <== 3\n",
      "task3one-2 # <== 4task3one-3 # <== 4\n",
      "task_one-3 # <== 5\n",
      "task3one-4 # <== 4\n",
      "task_one-4 # <== 5\n",
      "task3one-5 # <== 4\n",
      "task_one-5 # <== 5\n",
      "task3one-6 # <== 4\n",
      "task_one-6 # <== 5\n",
      "\n",
      "task_one-2 # <== 5\n",
      "task3one-1 # <== 4\n",
      "task_one-1 # <== 5\n",
      "task3one-0 # <== 4\n",
      "task_one-0 # <== 5\n",
      "Took 2.01 second(s).\n"
     ]
    }
   ],
   "source": [
    "start = time.time()\n",
    "tasks = []\n",
    "for i in range(7): \n",
    "    task = threading.Thread(target=task_1 , args=(i,))\n",
    "    task.start()\n",
    "    tasks.append(task)\n",
    "    \n",
    "for task in tasks: \n",
    "    task.join()  \n",
    "    \n",
    "    \n",
    "print('Took' , round(time.time() - start , 2) , 'second(s).')      "
   ]
  },
  {
   "cell_type": "code",
   "execution_count": null,
   "metadata": {},
   "outputs": [],
   "source": []
  }
 ],
 "metadata": {
  "kernelspec": {
   "display_name": "base",
   "language": "python",
   "name": "python3"
  },
  "language_info": {
   "codemirror_mode": {
    "name": "ipython",
    "version": 3
   },
   "file_extension": ".py",
   "mimetype": "text/x-python",
   "name": "python",
   "nbconvert_exporter": "python",
   "pygments_lexer": "ipython3",
   "version": "3.12.7"
  }
 },
 "nbformat": 4,
 "nbformat_minor": 2
}
