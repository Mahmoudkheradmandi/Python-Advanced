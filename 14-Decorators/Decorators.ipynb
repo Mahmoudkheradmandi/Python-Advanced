{
 "cells": [
  {
   "cell_type": "code",
   "execution_count": 5,
   "metadata": {},
   "outputs": [],
   "source": [
    "def decorator_func(orginal_func): \n",
    "    def wrapper_func(): \n",
    "        print('wrapper ran !')\n",
    "        return orginal_func()\n",
    "    return wrapper_func\n",
    "\n",
    "def hello_func(): \n",
    "    print('hello , wellcome to python class ')   "
   ]
  },
  {
   "cell_type": "code",
   "execution_count": 6,
   "metadata": {},
   "outputs": [
    {
     "name": "stdout",
     "output_type": "stream",
     "text": [
      "hello , wellcome to python class \n"
     ]
    }
   ],
   "source": [
    "hello_func()"
   ]
  },
  {
   "cell_type": "code",
   "execution_count": 7,
   "metadata": {},
   "outputs": [
    {
     "data": {
      "text/plain": [
       "<function __main__.decorator_func.<locals>.wrapper_func()>"
      ]
     },
     "execution_count": 7,
     "metadata": {},
     "output_type": "execute_result"
    }
   ],
   "source": [
    "decorator_func(hello_func)"
   ]
  },
  {
   "cell_type": "code",
   "execution_count": 9,
   "metadata": {},
   "outputs": [
    {
     "name": "stdout",
     "output_type": "stream",
     "text": [
      "wrapper ran !\n",
      "hello , wellcome to python class \n"
     ]
    }
   ],
   "source": [
    "decorated_hello_func = decorator_func(hello_func)\n",
    "decorated_hello_func()"
   ]
  },
  {
   "cell_type": "code",
   "execution_count": 10,
   "metadata": {},
   "outputs": [
    {
     "name": "stdout",
     "output_type": "stream",
     "text": [
      "hello , wellcome to python class \n"
     ]
    }
   ],
   "source": [
    "hello_func()"
   ]
  },
  {
   "cell_type": "code",
   "execution_count": 11,
   "metadata": {},
   "outputs": [],
   "source": [
    "def decorator_func_1(orginal_func): \n",
    "    def wrapper_func(): \n",
    "        print('wrapper ran !')\n",
    "        return orginal_func()\n",
    "    return wrapper_func\n",
    "\n",
    "@decorator_func_1\n",
    "def hello_func_1(): \n",
    "    print('hello , wellcome to python class ')   "
   ]
  },
  {
   "cell_type": "code",
   "execution_count": 12,
   "metadata": {},
   "outputs": [
    {
     "name": "stdout",
     "output_type": "stream",
     "text": [
      "wrapper ran !\n",
      "hello , wellcome to python class \n"
     ]
    }
   ],
   "source": [
    "hello_func_1()"
   ]
  },
  {
   "cell_type": "code",
   "execution_count": 13,
   "metadata": {},
   "outputs": [],
   "source": [
    "import time"
   ]
  },
  {
   "cell_type": "code",
   "execution_count": 21,
   "metadata": {},
   "outputs": [],
   "source": [
    "def timer_decorator_func_1(orginal_func): \n",
    "    def wrapper_func(): \n",
    "        st = time.time()\n",
    "        orginal_func()\n",
    "        end = time.time()\n",
    "        print('My program Took :' , end - st)\n",
    "    return wrapper_func\n",
    "\n",
    "def my_func(): \n",
    "    for i in range(1000000): \n",
    "        i \n",
    "    else : \n",
    "        print('finished')\n",
    "def my_func_1(): \n",
    "    for i in range(100 , 1000000): \n",
    "        i ** 3"
   ]
  },
  {
   "cell_type": "code",
   "execution_count": 22,
   "metadata": {},
   "outputs": [
    {
     "name": "stdout",
     "output_type": "stream",
     "text": [
      "finished\n",
      "My program Took : 0.023385047912597656\n",
      "My program Took : 0.06402921676635742\n"
     ]
    }
   ],
   "source": [
    "decorated_func = timer_decorator_func_1(my_func)\n",
    "decorated_func_1 = timer_decorator_func_1(my_func_1)\n",
    "decorated_func()\n",
    "decorated_func_1()"
   ]
  },
  {
   "cell_type": "code",
   "execution_count": 25,
   "metadata": {},
   "outputs": [],
   "source": [
    "def timer_decorator_func_1(orginal_func): \n",
    "    def wrapper_func(): \n",
    "        st = time.time()\n",
    "        orginal_func()\n",
    "        end = time.time()\n",
    "        print('My program Took :' , end - st)\n",
    "    return wrapper_func\n",
    "\n",
    "\n",
    "@timer_decorator_func_1\n",
    "def my_func(): \n",
    "    for i in range(1000000): \n",
    "        i \n",
    "    else : \n",
    "        print('finished')\n",
    "@timer_decorator_func_1        \n",
    "def my_func_1(): \n",
    "    for i in range(100 , 1000000): \n",
    "        i ** 3"
   ]
  },
  {
   "cell_type": "code",
   "execution_count": 26,
   "metadata": {},
   "outputs": [
    {
     "name": "stdout",
     "output_type": "stream",
     "text": [
      "finished\n",
      "My program Took : 0.03416585922241211\n"
     ]
    }
   ],
   "source": [
    "my_func()"
   ]
  },
  {
   "cell_type": "code",
   "execution_count": 27,
   "metadata": {},
   "outputs": [
    {
     "name": "stdout",
     "output_type": "stream",
     "text": [
      "My program Took : 0.08377289772033691\n"
     ]
    }
   ],
   "source": [
    "my_func_1()"
   ]
  },
  {
   "cell_type": "code",
   "execution_count": null,
   "metadata": {},
   "outputs": [],
   "source": []
  }
 ],
 "metadata": {
  "kernelspec": {
   "display_name": "base",
   "language": "python",
   "name": "python3"
  },
  "language_info": {
   "codemirror_mode": {
    "name": "ipython",
    "version": 3
   },
   "file_extension": ".py",
   "mimetype": "text/x-python",
   "name": "python",
   "nbconvert_exporter": "python",
   "pygments_lexer": "ipython3",
   "version": "3.12.7"
  }
 },
 "nbformat": 4,
 "nbformat_minor": 2
}
