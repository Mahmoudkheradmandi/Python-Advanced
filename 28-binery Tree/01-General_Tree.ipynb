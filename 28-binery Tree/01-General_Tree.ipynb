{
 "cells": [
  {
   "cell_type": "code",
   "execution_count": 1,
   "metadata": {},
   "outputs": [],
   "source": [
    "class TreeNode: \n",
    "    def __init__(self , data):\n",
    "        self.data = data \n",
    "        self.children = []\n",
    "        self.parent = None\n",
    "    \n",
    "    def get_level(self): \n",
    "        level = 0\n",
    "        p = self.parent\n",
    "        while p : \n",
    "            level += 1 \n",
    "            p = p.parent\n",
    "        return level        \n",
    "    \n",
    "    def add_child(self , child): \n",
    "        self.children.append(child)\n",
    "        child.parent = self\n",
    "        \n",
    "    \n",
    "    def print_tree(self): \n",
    "        spaces = \"  \"* self.get_level() \n",
    "        prefix = spaces + '|__' if self.parent else '|--'\n",
    "        print(prefix,self.data)\n",
    "        for child in self.children: \n",
    "            child.print_tree() \n",
    "    \n",
    "    def height(self): \n",
    "        if len(self.children) == 0: \n",
    "            return 0\n",
    "        max_height = -1\n",
    "        for child in self.children: \n",
    "            max_height = max(max_height , child.height())\n",
    "        return max_height + 1             \n",
    "   \n",
    "    def isbinary(self): \n",
    "    # With this function we check whether it is a binary tree or a general tree        \n",
    "        if len(self.children) > 2 : \n",
    "            return False\n",
    "        if len(self.children) == 0 : \n",
    "            return True\n",
    "        for child in self.children: \n",
    "            if not child.isbinary(): \n",
    "                return False\n",
    "        return True             "
   ]
  },
  {
   "cell_type": "code",
   "execution_count": 3,
   "metadata": {},
   "outputs": [],
   "source": [
    "# def create_tree():\n",
    "     \n",
    "#     root = TreeNode('Electronics')\n",
    "#     laptop = TreeNode('Laptop')\n",
    "#     root.add_child(laptop)\n",
    "#     laptop.add_child(TreeNode('DELL'))\n",
    "#     laptop.add_child(TreeNode('ASUS'))\n",
    "#     laptop.add_child(TreeNode('MSI'))\n",
    "#     laptop.add_child(TreeNode('APPLE'))\n",
    "    \n",
    "#     phone = TreeNode('phone')\n",
    "#     root.add_child(phone)\n",
    "#     phone.add_child(TreeNode('SAMSUNG'))\n",
    "#     phone.add_child(TreeNode('APPLE'))\n",
    "#     phone.add_child(TreeNode('LG'))    \n",
    "    \n",
    "#     tv = TreeNode('tv')\n",
    "#     root.add_child(tv)\n",
    "#     tv.add_child(TreeNode('LG')) \n",
    "#     tv.add_child(TreeNode('SONY')) \n",
    "    \n",
    "#     return root"
   ]
  },
  {
   "cell_type": "code",
   "execution_count": null,
   "metadata": {},
   "outputs": [],
   "source": []
  },
  {
   "cell_type": "code",
   "execution_count": 7,
   "metadata": {},
   "outputs": [],
   "source": [
    "def create_tree():\n",
    "    root = TreeNode(15)\n",
    "    \n",
    "    root.add_child(TreeNode(3))\n",
    "    root.add_child(TreeNode(6))\n",
    "    \n",
    "    root.children[0].add_child(TreeNode(2))\n",
    "    root.children[0].add_child(TreeNode(3))\n",
    "    root.children[0].add_child(TreeNode(4))\n",
    "    root.children[1].add_child(TreeNode(10))\n",
    "    \n",
    "    return root\n",
    "    "
   ]
  },
  {
   "cell_type": "code",
   "execution_count": 8,
   "metadata": {},
   "outputs": [],
   "source": [
    "root = create_tree()\n",
    "\n"
   ]
  },
  {
   "cell_type": "code",
   "execution_count": 9,
   "metadata": {},
   "outputs": [
    {
     "data": {
      "text/plain": [
       "2"
      ]
     },
     "execution_count": 9,
     "metadata": {},
     "output_type": "execute_result"
    }
   ],
   "source": [
    "root.height()"
   ]
  },
  {
   "cell_type": "code",
   "execution_count": 10,
   "metadata": {},
   "outputs": [
    {
     "name": "stdout",
     "output_type": "stream",
     "text": [
      "|-- 15\n",
      "  |__ 3\n",
      "    |__ 2\n",
      "    |__ 3\n",
      "    |__ 4\n",
      "  |__ 6\n",
      "    |__ 10\n"
     ]
    }
   ],
   "source": [
    "root.print_tree()"
   ]
  },
  {
   "cell_type": "code",
   "execution_count": 11,
   "metadata": {},
   "outputs": [
    {
     "data": {
      "text/plain": [
       "False"
      ]
     },
     "execution_count": 11,
     "metadata": {},
     "output_type": "execute_result"
    }
   ],
   "source": [
    "root.isbinary()"
   ]
  },
  {
   "cell_type": "code",
   "execution_count": 12,
   "metadata": {},
   "outputs": [],
   "source": [
    "def create_tree_1():\n",
    "    root = TreeNode(15)\n",
    "    \n",
    "    root.add_child(TreeNode(10))\n",
    "    root.add_child(TreeNode(20))\n",
    "    \n",
    "    root.children[0].add_child(TreeNode(1))\n",
    "    root.children[0].children[0].add_child(TreeNode(2))\n",
    "    \n",
    "    return root"
   ]
  },
  {
   "cell_type": "code",
   "execution_count": 13,
   "metadata": {},
   "outputs": [],
   "source": [
    "root = create_tree_1()"
   ]
  },
  {
   "cell_type": "code",
   "execution_count": 14,
   "metadata": {},
   "outputs": [
    {
     "name": "stdout",
     "output_type": "stream",
     "text": [
      "|-- 15\n",
      "  |__ 10\n",
      "    |__ 1\n",
      "      |__ 2\n",
      "  |__ 20\n"
     ]
    }
   ],
   "source": [
    "root.height()\n",
    "root.print_tree()"
   ]
  },
  {
   "cell_type": "code",
   "execution_count": null,
   "metadata": {},
   "outputs": [],
   "source": []
  }
 ],
 "metadata": {
  "kernelspec": {
   "display_name": "base",
   "language": "python",
   "name": "python3"
  },
  "language_info": {
   "codemirror_mode": {
    "name": "ipython",
    "version": 3
   },
   "file_extension": ".py",
   "mimetype": "text/x-python",
   "name": "python",
   "nbconvert_exporter": "python",
   "pygments_lexer": "ipython3",
   "version": "3.12.7"
  }
 },
 "nbformat": 4,
 "nbformat_minor": 2
}
