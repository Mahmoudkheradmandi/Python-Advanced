{
 "cells": [
  {
   "cell_type": "code",
   "execution_count": 1,
   "metadata": {},
   "outputs": [],
   "source": [
    "class Binary_Search_Tree: \n",
    "    \n",
    "    def __init__(self , data):\n",
    "        self.data = data \n",
    "        self.left = None\n",
    "        self.right = None\n",
    "        \n",
    "    def add(self , val): \n",
    "        if self.data == val : \n",
    "            return\n",
    "        elif self.data > val: \n",
    "            if self.left == None:\n",
    "                self.left = Binary_Search_Tree(val)\n",
    "            else: \n",
    "                self.left.add(val)\n",
    "        else:\n",
    "            if self.right == None:\n",
    "                self.right = Binary_Search_Tree(val)\n",
    "            else: \n",
    "                self.right.add(val)\n",
    "                \n",
    "    def search(self, val):\n",
    "        if self.data == val : \n",
    "            return True\n",
    "        elif self.data > val: \n",
    "            if self.left:\n",
    "                return self.left.search(val)\n",
    "            else: \n",
    "                return False\n",
    "        else:\n",
    "            if self.right:\n",
    "                return self.right.search(val)\n",
    "            else: \n",
    "                return False    \n",
    "        \n",
    "    def revese(self):\n",
    "        self.right , self.left = self.left , self.right\n",
    "        if self.left: \n",
    "            self.left.revese()\n",
    "        if self.right: \n",
    "            self.right.revese()     \n",
    "                     \n",
    "    \n",
    "    def  inorder_traversal(self): # L N R\n",
    "        _list = []\n",
    "        if self.left: \n",
    "            _list += self.left.inorder_traversal()\n",
    "        _list.append(self.data)\n",
    "        if self.right:\n",
    "            _list += self.right.inorder_traversal()\n",
    "        return _list \n",
    "    \n",
    "    def preorder_traversal(self): # N L R\n",
    "        _list = []\n",
    "        _list.append(self.data)\n",
    "        if self.left: \n",
    "            _list += self.left.preorder_traversal()\n",
    "        if self.right:\n",
    "            _list += self.right.preorder_traversal()\n",
    "        return _list  \n",
    "       \n",
    "    def postorder_traversal(self): # L R N\n",
    "        _list = []         \n",
    "        if self.left: \n",
    "            _list += self.left.postorder_traversal()\n",
    "        if self.right:\n",
    "            _list += self.right.postorder_traversal()\n",
    "        _list.append(self.data)\n",
    "        return _list   \n",
    "    "
   ]
  },
  {
   "cell_type": "code",
   "execution_count": 2,
   "metadata": {},
   "outputs": [],
   "source": [
    "el = [15 , 12, 27 ,7 ,14 ,20 ,88 ,23]\n",
    "root = Binary_Search_Tree(el[0])\n",
    "for i in el[1:]:\n",
    "    root.add(i) "
   ]
  },
  {
   "cell_type": "code",
   "execution_count": 3,
   "metadata": {},
   "outputs": [
    {
     "data": {
      "text/plain": [
       "True"
      ]
     },
     "execution_count": 3,
     "metadata": {},
     "output_type": "execute_result"
    }
   ],
   "source": [
    "root.search(27)"
   ]
  },
  {
   "cell_type": "code",
   "execution_count": 4,
   "metadata": {},
   "outputs": [
    {
     "data": {
      "text/plain": [
       "False"
      ]
     },
     "execution_count": 4,
     "metadata": {},
     "output_type": "execute_result"
    }
   ],
   "source": [
    "root.search(1)"
   ]
  },
  {
   "cell_type": "code",
   "execution_count": 9,
   "metadata": {},
   "outputs": [
    {
     "data": {
      "text/plain": [
       "[7, 12, 14, 15, 20, 23, 27, 88]"
      ]
     },
     "execution_count": 9,
     "metadata": {},
     "output_type": "execute_result"
    }
   ],
   "source": [
    "root.inorder_traversal()"
   ]
  },
  {
   "cell_type": "code",
   "execution_count": 10,
   "metadata": {},
   "outputs": [],
   "source": [
    "root.revese()"
   ]
  },
  {
   "cell_type": "code",
   "execution_count": 11,
   "metadata": {},
   "outputs": [
    {
     "data": {
      "text/plain": [
       "[88, 27, 23, 20, 15, 14, 12, 7]"
      ]
     },
     "execution_count": 11,
     "metadata": {},
     "output_type": "execute_result"
    }
   ],
   "source": [
    "root.inorder_traversal()"
   ]
  },
  {
   "cell_type": "code",
   "execution_count": null,
   "metadata": {},
   "outputs": [],
   "source": []
  }
 ],
 "metadata": {
  "kernelspec": {
   "display_name": "base",
   "language": "python",
   "name": "python3"
  },
  "language_info": {
   "codemirror_mode": {
    "name": "ipython",
    "version": 3
   },
   "file_extension": ".py",
   "mimetype": "text/x-python",
   "name": "python",
   "nbconvert_exporter": "python",
   "pygments_lexer": "ipython3",
   "version": "3.12.7"
  }
 },
 "nbformat": 4,
 "nbformat_minor": 2
}
