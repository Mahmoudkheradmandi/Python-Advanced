{
 "cells": [
  {
   "cell_type": "code",
   "execution_count": 19,
   "metadata": {},
   "outputs": [],
   "source": [
    "class Binary_Search_Tree: \n",
    "    \n",
    "    def __init__(self , data):\n",
    "        self.data = data \n",
    "        self.left = None\n",
    "        self.right = None\n",
    "        \n",
    "    def add(self , val): \n",
    "        if self.data == val : \n",
    "            return\n",
    "        elif self.data > val: \n",
    "            if self.left == None:\n",
    "                self.left = Binary_Search_Tree(val)\n",
    "            else: \n",
    "                self.left.add(val)\n",
    "        else:\n",
    "            if self.right == None:\n",
    "                self.right = Binary_Search_Tree(val)\n",
    "            else: \n",
    "                self.right.add(val) \n",
    "    \n",
    "    def  inorder_traversal(self): # L N R\n",
    "        _list = []\n",
    "        if self.left: \n",
    "            _list += self.left.inorder_traversal()\n",
    "        _list.append(self.data)\n",
    "        if self.right:\n",
    "            _list += self.right.inorder_traversal()\n",
    "        return _list \n",
    "    \n",
    "    def preorder_traversal(self): # N L R\n",
    "        _list = []\n",
    "        _list.append(self.data)\n",
    "        if self.left: \n",
    "            _list += self.left.preorder_traversal()\n",
    "        if self.right:\n",
    "            _list += self.right.preorder_traversal()\n",
    "        return _list  \n",
    "       \n",
    "    def postorder_traversal(self): # L R N\n",
    "        _list = []         \n",
    "        if self.left: \n",
    "            _list += self.left.postorder_traversal()\n",
    "        if self.right:\n",
    "            _list += self.right.postorder_traversal()\n",
    "        _list.append(self.data)\n",
    "        return _list     \n",
    "            \n",
    "                \n",
    "        \n",
    "        "
   ]
  },
  {
   "cell_type": "code",
   "execution_count": 12,
   "metadata": {},
   "outputs": [],
   "source": [
    "el = [15 , 12, 27 ,7 ,14 ,20 ,88 ,23]\n",
    "root = Binary_Search_Tree(el[0])\n",
    "for i in el[1:]:\n",
    "    root.add(i) \n",
    "    "
   ]
  },
  {
   "cell_type": "code",
   "execution_count": 13,
   "metadata": {},
   "outputs": [
    {
     "data": {
      "text/plain": [
       "15"
      ]
     },
     "execution_count": 13,
     "metadata": {},
     "output_type": "execute_result"
    }
   ],
   "source": [
    "root.data"
   ]
  },
  {
   "cell_type": "code",
   "execution_count": 5,
   "metadata": {},
   "outputs": [
    {
     "data": {
      "text/plain": [
       "12"
      ]
     },
     "execution_count": 5,
     "metadata": {},
     "output_type": "execute_result"
    }
   ],
   "source": [
    "root.left.data"
   ]
  },
  {
   "cell_type": "code",
   "execution_count": 6,
   "metadata": {},
   "outputs": [
    {
     "data": {
      "text/plain": [
       "7"
      ]
     },
     "execution_count": 6,
     "metadata": {},
     "output_type": "execute_result"
    }
   ],
   "source": [
    "root.left.left.data"
   ]
  },
  {
   "cell_type": "code",
   "execution_count": 7,
   "metadata": {},
   "outputs": [
    {
     "data": {
      "text/plain": [
       "14"
      ]
     },
     "execution_count": 7,
     "metadata": {},
     "output_type": "execute_result"
    }
   ],
   "source": [
    "root.left.right.data"
   ]
  },
  {
   "cell_type": "code",
   "execution_count": 18,
   "metadata": {},
   "outputs": [
    {
     "name": "stdout",
     "output_type": "stream",
     "text": [
      "[7, 12, 14, 15, 20, 23, 27, 88]\n",
      "[15, 12, 7, 14, 27, 20, 23, 88]\n",
      "[7, 14, 12, 23, 20, 88, 27, 15]\n"
     ]
    }
   ],
   "source": [
    "print(root.inorder_traversal())\n",
    "print(root.preorder_traversal())\n",
    "print(root.postorder_traversal())"
   ]
  },
  {
   "cell_type": "code",
   "execution_count": null,
   "metadata": {},
   "outputs": [],
   "source": []
  }
 ],
 "metadata": {
  "kernelspec": {
   "display_name": "base",
   "language": "python",
   "name": "python3"
  },
  "language_info": {
   "codemirror_mode": {
    "name": "ipython",
    "version": 3
   },
   "file_extension": ".py",
   "mimetype": "text/x-python",
   "name": "python",
   "nbconvert_exporter": "python",
   "pygments_lexer": "ipython3",
   "version": "3.12.7"
  }
 },
 "nbformat": 4,
 "nbformat_minor": 2
}
