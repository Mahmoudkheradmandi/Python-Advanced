{
 "cells": [
  {
   "cell_type": "code",
   "execution_count": 28,
   "metadata": {},
   "outputs": [],
   "source": [
    "class Binary_Tree: \n",
    "    def __init__(self , data):\n",
    "        self.data = data \n",
    "        self.left = None\n",
    "        self.right = None\n",
    "    \n",
    "    def get_level(self): \n",
    "        level = 0\n",
    "        p = self.parent\n",
    "        while p : \n",
    "            level += 1 \n",
    "            p = p.parent\n",
    "        return level        \n",
    "    \n",
    "    def add_child(self , data): \n",
    "        if type(data) != Binary_Tree: \n",
    "            data = Binary_Tree(data)\n",
    "        if self.left is None : \n",
    "            self.left = data\n",
    "        elif self.right is None : \n",
    "            self.right = data\n",
    "        else: \n",
    "            # print(' No more children can be added to this Node !')    \n",
    "            self.left.add_child(data)        \n",
    "                    \n",
    "            \n",
    "def is_strict(root):\n",
    "    if root is None: \n",
    "        return True\n",
    "    if root.left == None and root.right == None: \n",
    "        return True\n",
    "    if root.left is not None and root.right is not None: \n",
    "        return is_strict(root.left) and is_strict(root.right)\n",
    "    return False\n",
    "    \n",
    "\n",
    "def countNodes(root):\n",
    "    # Counting the number of nodes\n",
    "    if root is None: \n",
    "        return 0\n",
    "    return (1 + countNodes(root.left) + countNodes(root.right)) \n",
    "\n",
    "def is_complete(root , index , number_Nodes): \n",
    "    # Checks whether our tree is a complete tree or not             \n",
    "    if root is None : \n",
    "        return True\n",
    "    if index >= number_Nodes :\n",
    "        return False\n",
    "    return ( is_complete(root.left , 2 * index + 1 , number_Nodes) and                 \n",
    "             is_complete(root.right , 2 * index + 2 , number_Nodes)                \n",
    "                )"
   ]
  },
  {
   "cell_type": "code",
   "execution_count": 32,
   "metadata": {},
   "outputs": [],
   "source": [
    "root = Binary_Tree(99)\n",
    "root.add_child(33)\n",
    "root.add_child(11)\n",
    "root.add_child(3)\n",
    "root.right.add_child(8)"
   ]
  },
  {
   "cell_type": "code",
   "execution_count": 20,
   "metadata": {},
   "outputs": [
    {
     "data": {
      "text/plain": [
       "99"
      ]
     },
     "execution_count": 20,
     "metadata": {},
     "output_type": "execute_result"
    }
   ],
   "source": [
    "root.data"
   ]
  },
  {
   "cell_type": "code",
   "execution_count": 21,
   "metadata": {},
   "outputs": [
    {
     "data": {
      "text/plain": [
       "33"
      ]
     },
     "execution_count": 21,
     "metadata": {},
     "output_type": "execute_result"
    }
   ],
   "source": [
    "root.left.data"
   ]
  },
  {
   "cell_type": "code",
   "execution_count": 22,
   "metadata": {},
   "outputs": [
    {
     "data": {
      "text/plain": [
       "11"
      ]
     },
     "execution_count": 22,
     "metadata": {},
     "output_type": "execute_result"
    }
   ],
   "source": [
    "root.right.data"
   ]
  },
  {
   "cell_type": "code",
   "execution_count": 35,
   "metadata": {},
   "outputs": [
    {
     "data": {
      "text/plain": [
       "3"
      ]
     },
     "execution_count": 35,
     "metadata": {},
     "output_type": "execute_result"
    }
   ],
   "source": [
    "root.left.left.data"
   ]
  },
  {
   "cell_type": "code",
   "execution_count": 36,
   "metadata": {},
   "outputs": [
    {
     "data": {
      "text/plain": [
       "False"
      ]
     },
     "execution_count": 36,
     "metadata": {},
     "output_type": "execute_result"
    }
   ],
   "source": [
    "is_strict(root)"
   ]
  },
  {
   "cell_type": "code",
   "execution_count": 37,
   "metadata": {},
   "outputs": [
    {
     "name": "stdout",
     "output_type": "stream",
     "text": [
      " is Not complete\n"
     ]
    }
   ],
   "source": [
    "node_count = countNodes(root)\n",
    "index = 0\n",
    "if is_complete(root , index , node_count): \n",
    "    print(' is complete')\n",
    "else:\n",
    "    print(' is Not complete')    "
   ]
  },
  {
   "cell_type": "code",
   "execution_count": 38,
   "metadata": {},
   "outputs": [
    {
     "data": {
      "text/plain": [
       "5"
      ]
     },
     "execution_count": 38,
     "metadata": {},
     "output_type": "execute_result"
    }
   ],
   "source": [
    "countNodes(root)"
   ]
  },
  {
   "cell_type": "code",
   "execution_count": null,
   "metadata": {},
   "outputs": [],
   "source": []
  }
 ],
 "metadata": {
  "kernelspec": {
   "display_name": "base",
   "language": "python",
   "name": "python3"
  },
  "language_info": {
   "codemirror_mode": {
    "name": "ipython",
    "version": 3
   },
   "file_extension": ".py",
   "mimetype": "text/x-python",
   "name": "python",
   "nbconvert_exporter": "python",
   "pygments_lexer": "ipython3",
   "version": "3.12.7"
  }
 },
 "nbformat": 4,
 "nbformat_minor": 2
}
