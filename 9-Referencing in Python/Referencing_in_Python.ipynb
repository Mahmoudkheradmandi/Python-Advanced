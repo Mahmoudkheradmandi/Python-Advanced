{
 "cells": [
  {
   "cell_type": "code",
   "execution_count": 1,
   "metadata": {},
   "outputs": [],
   "source": [
    "x = 2 \n",
    "y = 3 \n",
    "z = x "
   ]
  },
  {
   "cell_type": "code",
   "execution_count": 2,
   "metadata": {},
   "outputs": [
    {
     "name": "stdout",
     "output_type": "stream",
     "text": [
      "4375322416\n",
      "4375322448\n",
      "4375322416\n"
     ]
    }
   ],
   "source": [
    "print(id(x))\n",
    "print(id(y))\n",
    "print(id(z))"
   ]
  },
  {
   "cell_type": "code",
   "execution_count": 3,
   "metadata": {},
   "outputs": [],
   "source": [
    "z += 2 "
   ]
  },
  {
   "cell_type": "code",
   "execution_count": 4,
   "metadata": {},
   "outputs": [
    {
     "name": "stdout",
     "output_type": "stream",
     "text": [
      "4375322416\n",
      "4375322480\n"
     ]
    }
   ],
   "source": [
    "print(id(x))\n",
    "print(id(z))"
   ]
  },
  {
   "cell_type": "code",
   "execution_count": 5,
   "metadata": {},
   "outputs": [],
   "source": [
    "lst1 = [1,2,3,4,6,8]\n",
    "lst2 = lst1"
   ]
  },
  {
   "cell_type": "code",
   "execution_count": 6,
   "metadata": {},
   "outputs": [
    {
     "name": "stdout",
     "output_type": "stream",
     "text": [
      "4479609600\n",
      "4479609600\n"
     ]
    }
   ],
   "source": [
    "print(id(lst1))\n",
    "print(id(lst2))"
   ]
  },
  {
   "cell_type": "code",
   "execution_count": 7,
   "metadata": {},
   "outputs": [],
   "source": [
    "lst1.append('ok')"
   ]
  },
  {
   "cell_type": "code",
   "execution_count": 8,
   "metadata": {},
   "outputs": [
    {
     "name": "stdout",
     "output_type": "stream",
     "text": [
      "[1, 2, 3, 4, 6, 8, 'ok'] ----- 4479609600\n",
      "[1, 2, 3, 4, 6, 8, 'ok'] ----- 4479609600\n"
     ]
    }
   ],
   "source": [
    "print(lst1 ,'-----' ,id(lst1))\n",
    "print(lst2 ,'-----' ,id(lst2))"
   ]
  },
  {
   "cell_type": "code",
   "execution_count": 9,
   "metadata": {},
   "outputs": [],
   "source": [
    "lis3 = [1,3,5,7,1,3,9,8]\n",
    "lst4 = []\n",
    "for i in lis3: \n",
    "    lst4.append(i)"
   ]
  },
  {
   "cell_type": "code",
   "execution_count": 10,
   "metadata": {},
   "outputs": [
    {
     "name": "stdout",
     "output_type": "stream",
     "text": [
      "[1, 3, 5, 7, 1, 3, 9, 8] ----- 4480677312\n",
      "[1, 3, 5, 7, 1, 3, 9, 8] ----- 4479520192\n"
     ]
    }
   ],
   "source": [
    "print(lis3 ,'-----' ,id(lis3))\n",
    "print(lst4 ,'-----' ,id(lst4))"
   ]
  },
  {
   "cell_type": "code",
   "execution_count": 11,
   "metadata": {},
   "outputs": [],
   "source": [
    "lis3 = [1,3,5,7,1,3,9,8]\n",
    "lst4 = lis3[:]"
   ]
  },
  {
   "cell_type": "code",
   "execution_count": 12,
   "metadata": {},
   "outputs": [
    {
     "name": "stdout",
     "output_type": "stream",
     "text": [
      "[1, 3, 5, 7, 1, 3, 9, 8] ----- 4480669120\n",
      "[1, 3, 5, 7, 1, 3, 9, 8] ----- 4479603264\n"
     ]
    }
   ],
   "source": [
    "print(lis3 ,'-----' ,id(lis3))\n",
    "print(lst4 ,'-----' ,id(lst4))"
   ]
  },
  {
   "cell_type": "code",
   "execution_count": 13,
   "metadata": {},
   "outputs": [],
   "source": [
    "lis3.append('ok')"
   ]
  },
  {
   "cell_type": "code",
   "execution_count": 14,
   "metadata": {},
   "outputs": [
    {
     "name": "stdout",
     "output_type": "stream",
     "text": [
      "[1, 3, 5, 7, 1, 3, 9, 8, 'ok'] ----- 4480669120\n",
      "[1, 3, 5, 7, 1, 3, 9, 8] ----- 4479603264\n"
     ]
    }
   ],
   "source": [
    "print(lis3 ,'-----' ,id(lis3))\n",
    "print(lst4 ,'-----' ,id(lst4))"
   ]
  },
  {
   "cell_type": "code",
   "execution_count": 15,
   "metadata": {},
   "outputs": [],
   "source": [
    "lst5 = [1 ,4 ,5 ,7]\n",
    "lst6 = lst5.copy()"
   ]
  },
  {
   "cell_type": "code",
   "execution_count": 16,
   "metadata": {},
   "outputs": [
    {
     "name": "stdout",
     "output_type": "stream",
     "text": [
      "[1, 4, 5, 7] ----- 4480662144\n",
      "[1, 4, 5, 7] ----- 4480671936\n"
     ]
    }
   ],
   "source": [
    "print(lst5 ,'-----' ,id(lst5))\n",
    "print(lst6 ,'-----' ,id(lst6))"
   ]
  },
  {
   "cell_type": "code",
   "execution_count": 17,
   "metadata": {},
   "outputs": [
    {
     "name": "stdout",
     "output_type": "stream",
     "text": [
      "[1, 4, 5, 7, 'ok'] ----- 4480662144\n",
      "[1, 4, 5, 7] ----- 4480671936\n"
     ]
    }
   ],
   "source": [
    "lst5.append('ok')\n",
    "print(lst5 ,'-----' ,id(lst5))\n",
    "print(lst6 ,'-----' ,id(lst6))"
   ]
  },
  {
   "cell_type": "code",
   "execution_count": 18,
   "metadata": {},
   "outputs": [],
   "source": [
    "class Car: \n",
    "    def __init__(self , color ,value):\n",
    "        self.color = color\n",
    "        self.value = value\n",
    "        "
   ]
  },
  {
   "cell_type": "code",
   "execution_count": 19,
   "metadata": {},
   "outputs": [],
   "source": [
    "car1 = Car('cherry' , 23)\n",
    "car2 = car1"
   ]
  },
  {
   "cell_type": "code",
   "execution_count": 20,
   "metadata": {},
   "outputs": [
    {
     "name": "stdout",
     "output_type": "stream",
     "text": [
      "<__main__.Car object at 0x10b10c170> ----- 4480614768\n",
      "<__main__.Car object at 0x10b10c170> ----- 4480614768\n"
     ]
    }
   ],
   "source": [
    "print(car1 ,'-----' ,id(car1))\n",
    "print(car2 ,'-----' ,id(car2))"
   ]
  },
  {
   "cell_type": "code",
   "execution_count": 21,
   "metadata": {},
   "outputs": [
    {
     "name": "stdout",
     "output_type": "stream",
     "text": [
      "500\n",
      "500\n"
     ]
    }
   ],
   "source": [
    "car1.value = 500\n",
    "print(car1.value)\n",
    "print(car2.value)"
   ]
  },
  {
   "cell_type": "code",
   "execution_count": 22,
   "metadata": {},
   "outputs": [
    {
     "name": "stdout",
     "output_type": "stream",
     "text": [
      "<__main__.Car object at 0x10b10c170> ----- 4480614768\n",
      "<__main__.Car object at 0x10b10c170> ----- 4480614768\n"
     ]
    }
   ],
   "source": [
    "print(car1 ,'-----' ,id(car1))\n",
    "print(car2 ,'-----' ,id(car2))"
   ]
  },
  {
   "cell_type": "code",
   "execution_count": 32,
   "metadata": {},
   "outputs": [],
   "source": [
    "from copy import copy , deepcopy"
   ]
  },
  {
   "cell_type": "code",
   "execution_count": 33,
   "metadata": {},
   "outputs": [],
   "source": [
    "car3 = Car('blue' , 100)\n",
    "car4 = copy(car3)"
   ]
  },
  {
   "cell_type": "code",
   "execution_count": 34,
   "metadata": {},
   "outputs": [
    {
     "name": "stdout",
     "output_type": "stream",
     "text": [
      "<__main__.Car object at 0x10b10c710> ----- 4480616208\n",
      "<__main__.Car object at 0x10b10cd40> ----- 4480617792\n"
     ]
    }
   ],
   "source": [
    "print(car3 ,'-----' ,id(car3))\n",
    "print(car4 ,'-----' ,id(car4))"
   ]
  },
  {
   "cell_type": "code",
   "execution_count": 35,
   "metadata": {},
   "outputs": [],
   "source": [
    "lst5 = [1,3,2,5,4,7]\n",
    "lst6 = [7,4,9,lst5,8,1,2]\n"
   ]
  },
  {
   "cell_type": "code",
   "execution_count": 36,
   "metadata": {},
   "outputs": [
    {
     "name": "stdout",
     "output_type": "stream",
     "text": [
      "[1, 3, 2, 5, 4, 7] ----- 4479474944\n",
      "[7, 4, 9, [1, 3, 2, 5, 4, 7], 8, 1, 2] ----- 4480746880\n"
     ]
    }
   ],
   "source": [
    "print(lst5 ,'-----' ,id(lst5))\n",
    "print(lst6 ,'-----' ,id(lst6))"
   ]
  },
  {
   "cell_type": "code",
   "execution_count": 37,
   "metadata": {},
   "outputs": [],
   "source": [
    "lst7 = copy(lst6)"
   ]
  },
  {
   "cell_type": "code",
   "execution_count": 38,
   "metadata": {},
   "outputs": [],
   "source": [
    "lst5.append('oook')"
   ]
  },
  {
   "cell_type": "code",
   "execution_count": 39,
   "metadata": {},
   "outputs": [
    {
     "name": "stdout",
     "output_type": "stream",
     "text": [
      "[7, 4, 9, [1, 3, 2, 5, 4, 7, 'oook'], 8, 1, 2] ----- 4480746880\n",
      "[7, 4, 9, [1, 3, 2, 5, 4, 7, 'oook'], 8, 1, 2] ----- 4480662400\n"
     ]
    }
   ],
   "source": [
    "print(lst6 ,'-----' ,id(lst6))\n",
    "print(lst7 ,'-----' ,id(lst7))"
   ]
  },
  {
   "cell_type": "code",
   "execution_count": 40,
   "metadata": {},
   "outputs": [
    {
     "name": "stdout",
     "output_type": "stream",
     "text": [
      "[7, 4, 9, [1, 3, 2, 5, 4, 7, 'oook'], 8, 1, 2]\n",
      "[7, 4, 9, [1, 3, 2, 5, 4, 7, 'oook'], 8, 1, 2]\n"
     ]
    }
   ],
   "source": [
    "print(lst6)\n",
    "print(lst7) "
   ]
  },
  {
   "cell_type": "code",
   "execution_count": 42,
   "metadata": {},
   "outputs": [
    {
     "name": "stdout",
     "output_type": "stream",
     "text": [
      "[7, 4, 9, [1, 3, 2, 5, 4, 7, 'oook'], 8, 1, 2] ----- 4480746880\n",
      "[1, 2, 3, 4, 6, 8, 'ok'] ----- 4480789568\n"
     ]
    }
   ],
   "source": [
    "lst8 = deepcopy(lst2)\n",
    "print(lst6 ,'-----' ,id(lst6))\n",
    "print(lst8 ,'-----' ,id(lst8))"
   ]
  },
  {
   "cell_type": "code",
   "execution_count": 43,
   "metadata": {},
   "outputs": [],
   "source": [
    "lst5.append('hello')"
   ]
  },
  {
   "cell_type": "code",
   "execution_count": 44,
   "metadata": {},
   "outputs": [
    {
     "name": "stdout",
     "output_type": "stream",
     "text": [
      "[7, 4, 9, [1, 3, 2, 5, 4, 7, 'oook', 'hello'], 8, 1, 2] ----- 4480746880\n",
      "[1, 2, 3, 4, 6, 8, 'ok'] ----- 4480789568\n"
     ]
    }
   ],
   "source": [
    "print(lst6 ,'-----' ,id(lst6))\n",
    "print(lst8 ,'-----' ,id(lst8))"
   ]
  },
  {
   "cell_type": "code",
   "execution_count": 45,
   "metadata": {},
   "outputs": [],
   "source": [
    "str1 = 'hello world'\n",
    "str2 = str1"
   ]
  },
  {
   "cell_type": "code",
   "execution_count": 46,
   "metadata": {},
   "outputs": [],
   "source": [
    "str3 = copy(str1)"
   ]
  },
  {
   "cell_type": "code",
   "execution_count": 47,
   "metadata": {},
   "outputs": [
    {
     "name": "stdout",
     "output_type": "stream",
     "text": [
      "hello world ----- 4480786992\n",
      "hello world ----- 4480786992\n",
      "hello world ----- 4480786992\n"
     ]
    }
   ],
   "source": [
    "print(str1 ,'-----' ,id(str1))\n",
    "print(str2 ,'-----' ,id(str2))\n",
    "print(str3 ,'-----' ,id(str3))"
   ]
  },
  {
   "cell_type": "code",
   "execution_count": 48,
   "metadata": {},
   "outputs": [],
   "source": [
    "str4 = 'hello-------world'\n",
    "str5 = str4"
   ]
  },
  {
   "cell_type": "code",
   "execution_count": 51,
   "metadata": {},
   "outputs": [],
   "source": [
    "str6 = str4[::-1][::-1] # revarse to revarse"
   ]
  },
  {
   "cell_type": "code",
   "execution_count": 50,
   "metadata": {},
   "outputs": [
    {
     "name": "stdout",
     "output_type": "stream",
     "text": [
      "hello-------world ----- 4480757680\n",
      "hello-------world ----- 4480757680\n",
      "hello-------world ----- 4481064048\n"
     ]
    }
   ],
   "source": [
    "print(str4 ,'-----' ,id(str4))\n",
    "print(str5 ,'-----' ,id(str5))\n",
    "print(str6 ,'-----' ,id(str6))"
   ]
  },
  {
   "cell_type": "code",
   "execution_count": null,
   "metadata": {},
   "outputs": [],
   "source": []
  }
 ],
 "metadata": {
  "kernelspec": {
   "display_name": "base",
   "language": "python",
   "name": "python3"
  },
  "language_info": {
   "codemirror_mode": {
    "name": "ipython",
    "version": 3
   },
   "file_extension": ".py",
   "mimetype": "text/x-python",
   "name": "python",
   "nbconvert_exporter": "python",
   "pygments_lexer": "ipython3",
   "version": "3.12.7"
  }
 },
 "nbformat": 4,
 "nbformat_minor": 2
}
