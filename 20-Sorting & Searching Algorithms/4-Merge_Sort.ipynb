{
 "cells": [
  {
   "cell_type": "code",
   "execution_count": 1,
   "metadata": {},
   "outputs": [],
   "source": [
    "from random import randint as rnd\n",
    "from random import shuffle\n"
   ]
  },
  {
   "cell_type": "markdown",
   "metadata": {},
   "source": [
    "# Merge Alg "
   ]
  },
  {
   "cell_type": "code",
   "execution_count": 2,
   "metadata": {},
   "outputs": [],
   "source": [
    "l1 = [0,2,4,6,8,10,12]\n",
    "l2 = [1,2,5,8,11]"
   ]
  },
  {
   "cell_type": "code",
   "execution_count": 3,
   "metadata": {},
   "outputs": [
    {
     "data": {
      "text/plain": [
       "[0, 1, 2, 2, 4, 5, 6, 8, 8, 10, 11, 12]"
      ]
     },
     "execution_count": 3,
     "metadata": {},
     "output_type": "execute_result"
    }
   ],
   "source": [
    "len1 = len(l1)\n",
    "len2 = len(l2)\n",
    "l3 = []\n",
    "i = j = 0\n",
    "\n",
    "while i < len1 and j < len2 : \n",
    "    if l1[i] < l2[j] : \n",
    "        l3.append(l1[i])\n",
    "        i += 1\n",
    "    else:     \n",
    "        l3.append(l2[j])\n",
    "        j += 1\n",
    "l3 += l1[i:]\n",
    "l3 += l2[j:] \n",
    "\n",
    "l3        "
   ]
  },
  {
   "cell_type": "markdown",
   "metadata": {},
   "source": [
    "# Merge Sort O(n log n )"
   ]
  },
  {
   "cell_type": "code",
   "execution_count": 4,
   "metadata": {},
   "outputs": [],
   "source": [
    "def merge(l1 , l2): \n",
    "    len1 = len(l1)\n",
    "    len2 = len(l2)\n",
    "    l3 = []\n",
    "    i = j = 0\n",
    "\n",
    "    while i < len1 and j < len2 : \n",
    "        if l1[i] < l2[j] : \n",
    "            l3.append(l1[i])\n",
    "            i += 1\n",
    "        else:     \n",
    "            l3.append(l2[j])\n",
    "            j += 1\n",
    "    l3 += l1[i:]\n",
    "    l3 += l2[j:] \n",
    "\n",
    "    return l3"
   ]
  },
  {
   "cell_type": "code",
   "execution_count": 5,
   "metadata": {},
   "outputs": [],
   "source": [
    "def merge_sort(_list): \n",
    "    if len(_list) == 1 : \n",
    "        return _list\n",
    "    \n",
    "    else : \n",
    "        mid = len(_list) // 2 \n",
    "        left = _list[:mid]\n",
    "        right = _list[mid:]\n",
    "        \n",
    "    left = merge_sort(left)\n",
    "    right = merge_sort(right)\n",
    "    \n",
    "    return merge(left , right)   "
   ]
  },
  {
   "cell_type": "code",
   "execution_count": 6,
   "metadata": {},
   "outputs": [
    {
     "data": {
      "text/plain": [
       "[0, 2, 5, 9, 3, 8, 7, 1, 6, 4]"
      ]
     },
     "execution_count": 6,
     "metadata": {},
     "output_type": "execute_result"
    }
   ],
   "source": [
    "length = 10\n",
    "_list = [i for i in range(10)]\n",
    "shuffle(_list)\n",
    "_list"
   ]
  },
  {
   "cell_type": "code",
   "execution_count": 7,
   "metadata": {},
   "outputs": [
    {
     "data": {
      "text/plain": [
       "[0, 1, 2, 3, 4, 5, 6, 7, 8, 9]"
      ]
     },
     "execution_count": 7,
     "metadata": {},
     "output_type": "execute_result"
    }
   ],
   "source": [
    "merge_sort(_list)"
   ]
  },
  {
   "cell_type": "code",
   "execution_count": null,
   "metadata": {},
   "outputs": [],
   "source": []
  }
 ],
 "metadata": {
  "kernelspec": {
   "display_name": "base",
   "language": "python",
   "name": "python3"
  },
  "language_info": {
   "codemirror_mode": {
    "name": "ipython",
    "version": 3
   },
   "file_extension": ".py",
   "mimetype": "text/x-python",
   "name": "python",
   "nbconvert_exporter": "python",
   "pygments_lexer": "ipython3",
   "version": "3.12.7"
  }
 },
 "nbformat": 4,
 "nbformat_minor": 2
}
