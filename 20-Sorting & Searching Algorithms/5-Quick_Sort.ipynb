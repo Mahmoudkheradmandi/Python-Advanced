{
 "cells": [
  {
   "cell_type": "code",
   "execution_count": 1,
   "metadata": {},
   "outputs": [],
   "source": [
    "from random import shuffle"
   ]
  },
  {
   "cell_type": "code",
   "execution_count": 2,
   "metadata": {},
   "outputs": [
    {
     "data": {
      "text/plain": [
       "[0, 8, 3, 9, 1, 2, 6, 4, 5, 7]"
      ]
     },
     "execution_count": 2,
     "metadata": {},
     "output_type": "execute_result"
    }
   ],
   "source": [
    "length = 10\n",
    "_list = [i for i in range(length)]\n",
    "shuffle(_list)\n",
    "_list\n"
   ]
  },
  {
   "cell_type": "code",
   "execution_count": 5,
   "metadata": {},
   "outputs": [],
   "source": [
    "def quich_sort(_list , low , high): # O(n log n) O(n**2)\n",
    "    # Recursive function\n",
    "    if low < high : \n",
    "        pivot = low\n",
    "        i = low\n",
    "        j = high\n",
    "        while i < j : \n",
    "            while _list[i] <= _list[pivot] and i < high :\n",
    "                i += 1\n",
    "            while _list[j] > _list[pivot] : \n",
    "                j -= 1\n",
    "            if i < j :  \n",
    "               _list[i] , _list[j] = _list[j] , _list[i]\n",
    "        _list[j] , _list[pivot] = _list[pivot] , _list[j]\n",
    "        \n",
    "        quich_sort(_list , low , j-1) \n",
    "        quich_sort(_list , j+1 , high)\n",
    "        \n",
    "    return _list   \n",
    "                     \n",
    "                \n",
    "            "
   ]
  },
  {
   "cell_type": "code",
   "execution_count": 6,
   "metadata": {},
   "outputs": [
    {
     "data": {
      "text/plain": [
       "[0, 1, 2, 3, 4, 5, 6, 7, 8, 9]"
      ]
     },
     "execution_count": 6,
     "metadata": {},
     "output_type": "execute_result"
    }
   ],
   "source": [
    "quich_sort(_list , 0 , len(_list)-1)"
   ]
  },
  {
   "cell_type": "code",
   "execution_count": null,
   "metadata": {},
   "outputs": [],
   "source": []
  }
 ],
 "metadata": {
  "kernelspec": {
   "display_name": "base",
   "language": "python",
   "name": "python3"
  },
  "language_info": {
   "codemirror_mode": {
    "name": "ipython",
    "version": 3
   },
   "file_extension": ".py",
   "mimetype": "text/x-python",
   "name": "python",
   "nbconvert_exporter": "python",
   "pygments_lexer": "ipython3",
   "version": "3.12.7"
  }
 },
 "nbformat": 4,
 "nbformat_minor": 2
}
