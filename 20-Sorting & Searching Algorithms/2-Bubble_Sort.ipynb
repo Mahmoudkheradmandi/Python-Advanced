{
 "cells": [
  {
   "cell_type": "code",
   "execution_count": 2,
   "metadata": {},
   "outputs": [],
   "source": [
    "from random import randint as rnd\n",
    "import matplotlib.pyplot as plt\n",
    "\n"
   ]
  },
  {
   "cell_type": "code",
   "execution_count": 3,
   "metadata": {},
   "outputs": [
    {
     "data": {
      "text/plain": [
       "[0, 1, 3, 6, 9, 2, 10, 0, 10, 0]"
      ]
     },
     "execution_count": 3,
     "metadata": {},
     "output_type": "execute_result"
    }
   ],
   "source": [
    "length = 10\n",
    "_list = [rnd(0 , length) for i in range(length)]\n",
    "_list"
   ]
  },
  {
   "cell_type": "code",
   "execution_count": 4,
   "metadata": {},
   "outputs": [
    {
     "data": {
      "text/plain": [
       "[0, 0, 0, 1, 2, 3, 6, 9, 10, 10]"
      ]
     },
     "execution_count": 4,
     "metadata": {},
     "output_type": "execute_result"
    }
   ],
   "source": [
    "\n",
    "\n",
    "for i in range(length-1): # O(n**2)\n",
    "\n",
    "    for j in range(length - i - 1): \n",
    "        if _list[j] > _list[j+1] : \n",
    "            _list[j] ,_list[j+1] = _list[j+1] , _list[j]\n",
    "_list    \n",
    "    \n"
   ]
  },
  {
   "cell_type": "code",
   "execution_count": 5,
   "metadata": {},
   "outputs": [
    {
     "data": {
      "text/plain": [
       "[0, 0, 0, 1, 2, 3, 6, 9, 10, 10]"
      ]
     },
     "execution_count": 5,
     "metadata": {},
     "output_type": "execute_result"
    }
   ],
   "source": [
    "# Beter method : \n",
    "\n",
    "\n",
    "for i in range(length-1): # O(n**2)\n",
    "    flag = True\n",
    "    for j in range(length - i - 1): \n",
    "        if _list[j] > _list[j+1] : \n",
    "            flag = False\n",
    "            _list[j] ,_list[j+1] = _list[j+1] , _list[j]\n",
    "    if flag: \n",
    "        break        \n",
    "_list  "
   ]
  },
  {
   "cell_type": "code",
   "execution_count": null,
   "metadata": {},
   "outputs": [],
   "source": []
  }
 ],
 "metadata": {
  "kernelspec": {
   "display_name": "base",
   "language": "python",
   "name": "python3"
  },
  "language_info": {
   "codemirror_mode": {
    "name": "ipython",
    "version": 3
   },
   "file_extension": ".py",
   "mimetype": "text/x-python",
   "name": "python",
   "nbconvert_exporter": "python",
   "pygments_lexer": "ipython3",
   "version": "3.12.7"
  }
 },
 "nbformat": 4,
 "nbformat_minor": 2
}
