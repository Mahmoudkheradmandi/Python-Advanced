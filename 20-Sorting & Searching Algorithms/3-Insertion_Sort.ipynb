{
 "cells": [
  {
   "cell_type": "code",
   "execution_count": 1,
   "metadata": {},
   "outputs": [],
   "source": [
    "from random import shuffle\n"
   ]
  },
  {
   "cell_type": "code",
   "execution_count": 2,
   "metadata": {},
   "outputs": [
    {
     "data": {
      "text/plain": [
       "[8, 5, 6, 9, 7, 0, 3, 4, 2, 1]"
      ]
     },
     "execution_count": 2,
     "metadata": {},
     "output_type": "execute_result"
    }
   ],
   "source": [
    "length = 10\n",
    "_list = [i for i in range(length)]\n",
    "shuffle(_list)\n",
    "_list"
   ]
  },
  {
   "cell_type": "code",
   "execution_count": null,
   "metadata": {},
   "outputs": [],
   "source": [
    "\n",
    "lst = []\n",
    "for i in _list: \n",
    "    for j in range(len(lst)): \n",
    "        if i < lst[j]: \n",
    "            lst.insert(j,i)\n",
    "            break\n",
    "    else: \n",
    "        lst.append(i)    \n",
    "lst           "
   ]
  },
  {
   "cell_type": "code",
   "execution_count": 3,
   "metadata": {},
   "outputs": [
    {
     "data": {
      "text/plain": [
       "[0, 1, 2, 3, 4, 5, 6, 7, 8, 9]"
      ]
     },
     "execution_count": 3,
     "metadata": {},
     "output_type": "execute_result"
    }
   ],
   "source": [
    " # beter method for memory O(n**2)\n",
    " \n",
    "for i in range(1 , length): # start poiter in the index 1 no zero 0 range(1 , length)\n",
    "    for j in range(i): # range 1 == index 0 /// range 2 == index 0 and index 1\n",
    "        if _list[j] > _list[i]:\n",
    "            temp = _list[i]\n",
    "            del _list[i]\n",
    "            _list.insert(j , temp)\n",
    "            break\n",
    "_list        "
   ]
  },
  {
   "cell_type": "code",
   "execution_count": null,
   "metadata": {},
   "outputs": [],
   "source": []
  }
 ],
 "metadata": {
  "kernelspec": {
   "display_name": "base",
   "language": "python",
   "name": "python3"
  },
  "language_info": {
   "codemirror_mode": {
    "name": "ipython",
    "version": 3
   },
   "file_extension": ".py",
   "mimetype": "text/x-python",
   "name": "python",
   "nbconvert_exporter": "python",
   "pygments_lexer": "ipython3",
   "version": "3.12.7"
  }
 },
 "nbformat": 4,
 "nbformat_minor": 2
}
