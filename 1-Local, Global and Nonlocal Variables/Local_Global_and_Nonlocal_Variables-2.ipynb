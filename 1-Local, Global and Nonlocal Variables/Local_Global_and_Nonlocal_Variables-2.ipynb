{
 "cells": [
  {
   "cell_type": "code",
   "execution_count": 3,
   "metadata": {},
   "outputs": [
    {
     "name": "stdout",
     "output_type": "stream",
     "text": [
      "7\n"
     ]
    }
   ],
   "source": [
    "def myf(x): \n",
    "    x+=2 # local variable\n",
    "    print(x)\n",
    "\n",
    "myf(5)\n"
   ]
  },
  {
   "cell_type": "code",
   "execution_count": 4,
   "metadata": {},
   "outputs": [
    {
     "name": "stdout",
     "output_type": "stream",
     "text": [
      "7\n"
     ]
    },
    {
     "ename": "NameError",
     "evalue": "name 'x' is not defined",
     "output_type": "error",
     "traceback": [
      "\u001b[0;31m---------------------------------------------------------------------------\u001b[0m",
      "\u001b[0;31mNameError\u001b[0m                                 Traceback (most recent call last)",
      "Cell \u001b[0;32mIn[4], line 6\u001b[0m\n\u001b[1;32m      3\u001b[0m     \u001b[38;5;28mprint\u001b[39m(x)\n\u001b[1;32m      5\u001b[0m myf(\u001b[38;5;241m5\u001b[39m)\n\u001b[0;32m----> 6\u001b[0m \u001b[38;5;28mprint\u001b[39m(x)\n",
      "\u001b[0;31mNameError\u001b[0m: name 'x' is not defined"
     ]
    }
   ],
   "source": [
    "def myf(x): \n",
    "    x+=2\n",
    "    print(x)\n",
    "\n",
    "myf(5)\n",
    "print(x)    "
   ]
  },
  {
   "cell_type": "code",
   "execution_count": 5,
   "metadata": {},
   "outputs": [
    {
     "name": "stdout",
     "output_type": "stream",
     "text": [
      "2\n",
      "2\n"
     ]
    }
   ],
   "source": [
    "x = 2 # global variable\n",
    "def myf(): \n",
    "    print(x)\n",
    "    \n",
    "myf()\n",
    "print(x)"
   ]
  },
  {
   "cell_type": "code",
   "execution_count": 6,
   "metadata": {},
   "outputs": [
    {
     "name": "stdout",
     "output_type": "stream",
     "text": [
      "4\n",
      "4\n"
     ]
    }
   ],
   "source": [
    "x = 2\n",
    "def myf():\n",
    "    \n",
    "    global x\n",
    "    x += 2 \n",
    "    print(x)\n",
    "    \n",
    "myf()\n",
    "print(x)\n"
   ]
  },
  {
   "cell_type": "code",
   "execution_count": 7,
   "metadata": {},
   "outputs": [
    {
     "name": "stdout",
     "output_type": "stream",
     "text": [
      "2\n",
      "2\n",
      "10\n"
     ]
    }
   ],
   "source": [
    "x  = 10 # global Computer memory\n",
    "def myf_1(): \n",
    "    x = 2 # local Computer memory\n",
    "    print(x)\n",
    "    def myf_2(): \n",
    "        print(x)\n",
    "    myf_2()    \n",
    "        \n",
    "myf_1()\n",
    "print(x)              "
   ]
  },
  {
   "cell_type": "code",
   "execution_count": 8,
   "metadata": {},
   "outputs": [
    {
     "name": "stdout",
     "output_type": "stream",
     "text": [
      "2\n",
      "10\n",
      "10\n"
     ]
    }
   ],
   "source": [
    "x  = 10 \n",
    "def myf_1(): \n",
    "    x = 2 \n",
    "    print(x)\n",
    "    def myf_2():\n",
    "        global x  \n",
    "        print(x)\n",
    "    myf_2()    \n",
    "        \n",
    "myf_1()\n",
    "print(x)"
   ]
  },
  {
   "cell_type": "code",
   "execution_count": 9,
   "metadata": {},
   "outputs": [
    {
     "name": "stdout",
     "output_type": "stream",
     "text": [
      "2\n"
     ]
    },
    {
     "ename": "UnboundLocalError",
     "evalue": "cannot access local variable 'x' where it is not associated with a value",
     "output_type": "error",
     "traceback": [
      "\u001b[0;31m---------------------------------------------------------------------------\u001b[0m",
      "\u001b[0;31mUnboundLocalError\u001b[0m                         Traceback (most recent call last)",
      "Cell \u001b[0;32mIn[9], line 11\u001b[0m\n\u001b[1;32m      8\u001b[0m         \u001b[38;5;28mprint\u001b[39m(x)\n\u001b[1;32m      9\u001b[0m     myf_2()    \n\u001b[0;32m---> 11\u001b[0m myf_1()\n",
      "Cell \u001b[0;32mIn[9], line 9\u001b[0m, in \u001b[0;36mmyf_1\u001b[0;34m()\u001b[0m\n\u001b[1;32m      7\u001b[0m     x \u001b[38;5;241m+\u001b[39m\u001b[38;5;241m=\u001b[39m \u001b[38;5;241m2\u001b[39m \n\u001b[1;32m      8\u001b[0m     \u001b[38;5;28mprint\u001b[39m(x)\n\u001b[0;32m----> 9\u001b[0m myf_2()\n",
      "Cell \u001b[0;32mIn[9], line 7\u001b[0m, in \u001b[0;36mmyf_1.<locals>.myf_2\u001b[0;34m()\u001b[0m\n\u001b[1;32m      5\u001b[0m \u001b[38;5;28;01mdef\u001b[39;00m \u001b[38;5;21mmyf_2\u001b[39m():\n\u001b[0;32m----> 7\u001b[0m     x \u001b[38;5;241m+\u001b[39m\u001b[38;5;241m=\u001b[39m \u001b[38;5;241m2\u001b[39m \n\u001b[1;32m      8\u001b[0m     \u001b[38;5;28mprint\u001b[39m(x)\n",
      "\u001b[0;31mUnboundLocalError\u001b[0m: cannot access local variable 'x' where it is not associated with a value"
     ]
    }
   ],
   "source": [
    "x  = 10 \n",
    "def myf_1(): \n",
    "    x = 2  # nonlocal \n",
    "    print(x)\n",
    "    def myf_2():\n",
    "        x += 2 \n",
    "        print(x)\n",
    "    myf_2()    \n",
    "        \n",
    "myf_1()\n"
   ]
  },
  {
   "cell_type": "code",
   "execution_count": 10,
   "metadata": {},
   "outputs": [
    {
     "name": "stdout",
     "output_type": "stream",
     "text": [
      "2\n",
      "4\n"
     ]
    }
   ],
   "source": [
    "x  = 10 \n",
    "def myf_1(): \n",
    "    x = 2  # nonlocal \n",
    "    print(x)\n",
    "    def myf_2():\n",
    "        nonlocal x\n",
    "        x += 2 \n",
    "        print(x)\n",
    "    myf_2()    \n",
    "        \n",
    "myf_1() "
   ]
  },
  {
   "cell_type": "code",
   "execution_count": 12,
   "metadata": {},
   "outputs": [
    {
     "name": "stdout",
     "output_type": "stream",
     "text": [
      "2\n",
      "5\n",
      "5\n"
     ]
    }
   ],
   "source": [
    "x  = 10 \n",
    "def myf_1(): \n",
    "    x = 2  \n",
    "    print(x)\n",
    "    def myf_2():\n",
    "        x = 5 # nonlocal \n",
    "        print(x)\n",
    "        def myf_3(): \n",
    "            print(x)\n",
    "        myf_3()\n",
    "    myf_2()            \n",
    "myf_1() "
   ]
  },
  {
   "cell_type": "code",
   "execution_count": 14,
   "metadata": {},
   "outputs": [
    {
     "name": "stdout",
     "output_type": "stream",
     "text": [
      "2\n",
      "5\n",
      "7\n"
     ]
    }
   ],
   "source": [
    "x  = 10 \n",
    "def myf_1(): \n",
    "    x = 2  \n",
    "    print(x)\n",
    "    def myf_2():\n",
    "        x = 5 # nonlocal \n",
    "        print(x)\n",
    "        def myf_3():\n",
    "            nonlocal x \n",
    "            x += 2 \n",
    "            print(x)\n",
    "        myf_3()\n",
    "    myf_2()            \n",
    "myf_1() "
   ]
  },
  {
   "cell_type": "code",
   "execution_count": null,
   "metadata": {},
   "outputs": [],
   "source": []
  }
 ],
 "metadata": {
  "kernelspec": {
   "display_name": "base",
   "language": "python",
   "name": "python3"
  },
  "language_info": {
   "codemirror_mode": {
    "name": "ipython",
    "version": 3
   },
   "file_extension": ".py",
   "mimetype": "text/x-python",
   "name": "python",
   "nbconvert_exporter": "python",
   "pygments_lexer": "ipython3",
   "version": "3.12.7"
  }
 },
 "nbformat": 4,
 "nbformat_minor": 2
}
