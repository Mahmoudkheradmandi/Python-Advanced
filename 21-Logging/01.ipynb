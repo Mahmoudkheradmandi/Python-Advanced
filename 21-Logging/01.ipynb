{
 "cells": [
  {
   "cell_type": "code",
   "execution_count": 1,
   "metadata": {},
   "outputs": [],
   "source": [
    "def cube(x) : \n",
    "    return x * x * x \n",
    "\n",
    "def square(x): \n",
    "    return x * x"
   ]
  },
  {
   "cell_type": "code",
   "execution_count": 2,
   "metadata": {},
   "outputs": [
    {
     "name": "stdout",
     "output_type": "stream",
     "text": [
      "2 square is 4\n",
      "2 square is 8\n"
     ]
    }
   ],
   "source": [
    "x = 2\n",
    "print(f'{x} square is {square(x)}')\n",
    "print(f'{x} square is {cube(x)}') "
   ]
  },
  {
   "cell_type": "code",
   "execution_count": 3,
   "metadata": {},
   "outputs": [],
   "source": [
    "import logging"
   ]
  },
  {
   "cell_type": "code",
   "execution_count": 4,
   "metadata": {},
   "outputs": [],
   "source": [
    "x = 2\n",
    "logging.debug(f'{x} square is {square(x)}')\n",
    "logging.debug(f'{x} square is {cube(x)}') "
   ]
  },
  {
   "cell_type": "code",
   "execution_count": 5,
   "metadata": {},
   "outputs": [
    {
     "name": "stderr",
     "output_type": "stream",
     "text": [
      "WARNING:root:2 square is 4\n",
      "WARNING:root:2 square is 8\n"
     ]
    }
   ],
   "source": [
    "x = 2\n",
    "logging.warning(f'{x} square is {square(x)}')\n",
    "logging.warning(f'{x} square is {cube(x)}') "
   ]
  },
  {
   "cell_type": "code",
   "execution_count": 6,
   "metadata": {},
   "outputs": [],
   "source": [
    "import logging"
   ]
  },
  {
   "cell_type": "code",
   "execution_count": 7,
   "metadata": {},
   "outputs": [],
   "source": [
    "logging.basicConfig(level=logging.DEBUG)"
   ]
  },
  {
   "cell_type": "code",
   "execution_count": 8,
   "metadata": {},
   "outputs": [],
   "source": [
    "x = 2\n",
    "\n",
    "res1 = square(x)\n",
    "res2 = cube(x)\n",
    "\n",
    "logging.debug(f\"Square: {x} * {x} = {res1}\")\n",
    "logging.debug(f\"Cube: {x} * {x} * {x} = {res2}\")"
   ]
  },
  {
   "cell_type": "code",
   "execution_count": null,
   "metadata": {},
   "outputs": [],
   "source": []
  }
 ],
 "metadata": {
  "kernelspec": {
   "display_name": "base",
   "language": "python",
   "name": "python3"
  },
  "language_info": {
   "codemirror_mode": {
    "name": "ipython",
    "version": 3
   },
   "file_extension": ".py",
   "mimetype": "text/x-python",
   "name": "python",
   "nbconvert_exporter": "python",
   "pygments_lexer": "ipython3",
   "version": "3.12.7"
  }
 },
 "nbformat": 4,
 "nbformat_minor": 2
}
