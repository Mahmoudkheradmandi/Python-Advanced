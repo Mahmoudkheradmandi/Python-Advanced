{
 "cells": [
  {
   "cell_type": "code",
   "execution_count": 31,
   "metadata": {},
   "outputs": [],
   "source": [
    "class Graph: \n",
    "    def __init__(self , edges):\n",
    "        self.edges = edges\n",
    "        self.adj_dict = dict()\n",
    "        self.create_adj_dict()\n",
    "        \n",
    "    def create_adj_dict(self): \n",
    "        for start , dist in self.edges: \n",
    "            if start in self.adj_dict: \n",
    "                self.adj_dict[start].append(dist)\n",
    "            else:\n",
    "                self.adj_dict[start] = [dist]\n",
    "                \n",
    "    def get_path(self ,start , dist ,path=[]): \n",
    "        # This function gives us all the paths\n",
    "        # This is a recursive function\n",
    "        path = path + [start]\n",
    "        if start == dist : \n",
    "            return [path]\n",
    "        if start not in self.adj_dict: \n",
    "            return[]\n",
    "        paths = []\n",
    "        for vertex in self.adj_dict[start]: \n",
    "            if vertex not in path: \n",
    "                new_paths = self.get_path(vertex , dist , path)\n",
    "                for p in new_paths: \n",
    "                    paths.append(p)\n",
    "        return paths            \n",
    "    \n",
    "    def shortest_path(self ,start , dist ,path=[]):\n",
    "        path = path + [start]\n",
    "        if start == dist : \n",
    "            return path\n",
    "        if start not in self.adj_dict: \n",
    "            return None \n",
    "        shortest_path = None\n",
    "        for vertex in self.adj_dict[start]: \n",
    "            if vertex not in path: \n",
    "                new_sp = self.shortest_path(vertex , dist , path)\n",
    "                if new_sp: \n",
    "                    if shortest_path is None or len(new_sp) < len(shortest_path): \n",
    "                        shortest_path = new_sp\n",
    "        return shortest_path                \n",
    "                        \n",
    "                        "
   ]
  },
  {
   "cell_type": "code",
   "execution_count": 25,
   "metadata": {},
   "outputs": [
    {
     "data": {
      "text/plain": [
       "{'Kerman': ['Yazd', 'Esfahan'],\n",
       " 'Esfahan': ['Mashhad'],\n",
       " 'Yazd': ['Mashhad', 'Esfahan'],\n",
       " 'Mashhad': ['Tehran']}"
      ]
     },
     "execution_count": 25,
     "metadata": {},
     "output_type": "execute_result"
    }
   ],
   "source": [
    "{\n",
    "    \n",
    "    'Kerman' : ['Yazd' , 'Esfahan'],\n",
    "    'Esfahan': ['Mashhad'],\n",
    "    'Yazd' : ['Mashhad' ,'Esfahan'],\n",
    "    'Mashhad':['Tehran']\n",
    "    \n",
    "}"
   ]
  },
  {
   "cell_type": "code",
   "execution_count": 26,
   "metadata": {},
   "outputs": [],
   "source": [
    "ru = [\n",
    "    ('Kerman'  , 'Yazd'),\n",
    "    ('Kerman'  , 'Esfahan'),\n",
    "    ('Esfahan' , 'Mashhad'),\n",
    "    ('Yazd'    , 'Mashhad'),\n",
    "    ('Yazd'    , 'Esfahan'),\n",
    "    ('Mashhad' , 'Tehran')\n",
    "]\n",
    "\n",
    "gr = Graph(ru)"
   ]
  },
  {
   "cell_type": "code",
   "execution_count": 27,
   "metadata": {},
   "outputs": [
    {
     "data": {
      "text/plain": [
       "{'Kerman': ['Yazd', 'Esfahan'],\n",
       " 'Esfahan': ['Mashhad'],\n",
       " 'Yazd': ['Mashhad', 'Esfahan'],\n",
       " 'Mashhad': ['Tehran']}"
      ]
     },
     "execution_count": 27,
     "metadata": {},
     "output_type": "execute_result"
    }
   ],
   "source": [
    "gr.adj_dict"
   ]
  },
  {
   "cell_type": "code",
   "execution_count": 28,
   "metadata": {},
   "outputs": [
    {
     "data": {
      "text/plain": [
       "[['Yazd', 'Mashhad', 'Tehran'], ['Yazd', 'Esfahan', 'Mashhad', 'Tehran']]"
      ]
     },
     "execution_count": 28,
     "metadata": {},
     "output_type": "execute_result"
    }
   ],
   "source": [
    "gr.get_path('Yazd' , 'Tehran')"
   ]
  },
  {
   "cell_type": "code",
   "execution_count": 29,
   "metadata": {},
   "outputs": [
    {
     "data": {
      "text/plain": [
       "[['Kerman', 'Yazd', 'Mashhad', 'Tehran'],\n",
       " ['Kerman', 'Yazd', 'Esfahan', 'Mashhad', 'Tehran'],\n",
       " ['Kerman', 'Esfahan', 'Mashhad', 'Tehran']]"
      ]
     },
     "execution_count": 29,
     "metadata": {},
     "output_type": "execute_result"
    }
   ],
   "source": [
    "gr.get_path('Kerman' , 'Tehran')"
   ]
  },
  {
   "cell_type": "code",
   "execution_count": 30,
   "metadata": {},
   "outputs": [
    {
     "data": {
      "text/plain": [
       "['Kerman', 'Yazd', 'Mashhad', 'Tehran']"
      ]
     },
     "execution_count": 30,
     "metadata": {},
     "output_type": "execute_result"
    }
   ],
   "source": [
    "gr.shortest_path('Kerman' , 'Tehran')"
   ]
  },
  {
   "cell_type": "code",
   "execution_count": null,
   "metadata": {},
   "outputs": [],
   "source": []
  }
 ],
 "metadata": {
  "kernelspec": {
   "display_name": "base",
   "language": "python",
   "name": "python3"
  },
  "language_info": {
   "codemirror_mode": {
    "name": "ipython",
    "version": 3
   },
   "file_extension": ".py",
   "mimetype": "text/x-python",
   "name": "python",
   "nbconvert_exporter": "python",
   "pygments_lexer": "ipython3",
   "version": "3.12.7"
  }
 },
 "nbformat": 4,
 "nbformat_minor": 2
}
