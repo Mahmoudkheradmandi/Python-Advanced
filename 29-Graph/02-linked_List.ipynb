{
 "cells": [
  {
   "cell_type": "code",
   "execution_count": 1,
   "metadata": {},
   "outputs": [],
   "source": [
    "class Node: \n",
    "    def __init__(self , val):\n",
    "        self.data = val \n",
    "        self.neighbors = list()\n",
    "    \n",
    "    def add_neighbor(self , node): \n",
    "        if node not in self.neighbors: \n",
    "            self.neighbors.append(node) \n",
    "               \n",
    "        "
   ]
  },
  {
   "cell_type": "code",
   "execution_count": 16,
   "metadata": {},
   "outputs": [],
   "source": [
    "class Graph: \n",
    "    vertices = {}\n",
    "    adj_dict = {}\n",
    "    \n",
    "    \n",
    "    def add_vertex(self , vertex): \n",
    "        if isinstance(vertex , Node) and vertex.data not in self.vertices: \n",
    "            self.vertices[vertex.data] = vertex\n",
    "            return True\n",
    "        else: \n",
    "            return False\n",
    "        \n",
    "    def add_edge(self , start , dist): \n",
    "        \n",
    "        if start in self.vertices and dist in self.vertices : \n",
    "            for key , value in self.vertices.items(): \n",
    "                if key == start : \n",
    "                    value.add_neighbor(dist) \n",
    "                # if key == dist : \n",
    "                #     value.add_neighbor(start) \n",
    "                    \n",
    "            return True\n",
    "        else : \n",
    "            return False\n",
    "        \n",
    "    def create_adj_dict(self):\n",
    "        self.adj_dict = {} \n",
    "        for key in sorted(list(self.vertices.keys())): \n",
    "            if self.vertices[key].neighbors: \n",
    "                self.adj_dict[key] = self.vertices[key].neighbors\n",
    "    \n",
    "    def print_graph(self): \n",
    "        for key in sorted(list(self.vertices.keys())): \n",
    "            print(f'{key} : {self.vertices[key].neighbors}')\n",
    "                       "
   ]
  },
  {
   "cell_type": "code",
   "execution_count": 17,
   "metadata": {},
   "outputs": [],
   "source": [
    "nodes = ['Kerman' , 'Yazd' , 'Mashhad' , 'Esfahan' , 'Tehran']\n",
    "\n",
    "ru = [\n",
    "    ('Kerman'  , 'Yazd'),\n",
    "    ('Kerman'  , 'Esfahan'),\n",
    "    ('Esfahan' , 'Mashhad'),\n",
    "    ('Yazd'    , 'Mashhad'),\n",
    "    ('Yazd'    , 'Esfahan'),\n",
    "    ('Mashhad' , 'Tehran')\n",
    "]"
   ]
  },
  {
   "cell_type": "code",
   "execution_count": 18,
   "metadata": {},
   "outputs": [],
   "source": [
    "qu = Graph()\n",
    "for node in nodes: \n",
    "    qu.add_vertex(Node(node))\n",
    "\n",
    "for route in ru : \n",
    "    qu.add_edge(route[0] , route[1])     \n",
    "        "
   ]
  },
  {
   "cell_type": "code",
   "execution_count": 19,
   "metadata": {},
   "outputs": [
    {
     "name": "stdout",
     "output_type": "stream",
     "text": [
      "Esfahan : ['Mashhad']\n",
      "Kerman : ['Yazd', 'Esfahan']\n",
      "Mashhad : ['Tehran']\n",
      "Tehran : []\n",
      "Yazd : ['Mashhad', 'Esfahan']\n"
     ]
    }
   ],
   "source": [
    "qu.print_graph()"
   ]
  },
  {
   "cell_type": "code",
   "execution_count": 20,
   "metadata": {},
   "outputs": [],
   "source": [
    "qu.create_adj_dict()"
   ]
  },
  {
   "cell_type": "code",
   "execution_count": 21,
   "metadata": {},
   "outputs": [
    {
     "data": {
      "text/plain": [
       "{'Esfahan': ['Mashhad'],\n",
       " 'Kerman': ['Yazd', 'Esfahan'],\n",
       " 'Mashhad': ['Tehran'],\n",
       " 'Yazd': ['Mashhad', 'Esfahan']}"
      ]
     },
     "execution_count": 21,
     "metadata": {},
     "output_type": "execute_result"
    }
   ],
   "source": [
    "qu.adj_dict"
   ]
  },
  {
   "cell_type": "code",
   "execution_count": null,
   "metadata": {},
   "outputs": [],
   "source": []
  }
 ],
 "metadata": {
  "kernelspec": {
   "display_name": "base",
   "language": "python",
   "name": "python3"
  },
  "language_info": {
   "codemirror_mode": {
    "name": "ipython",
    "version": 3
   },
   "file_extension": ".py",
   "mimetype": "text/x-python",
   "name": "python",
   "nbconvert_exporter": "python",
   "pygments_lexer": "ipython3",
   "version": "3.12.7"
  }
 },
 "nbformat": 4,
 "nbformat_minor": 2
}
