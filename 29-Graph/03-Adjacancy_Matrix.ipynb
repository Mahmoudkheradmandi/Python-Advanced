{
 "cells": [
  {
   "cell_type": "code",
   "execution_count": 6,
   "metadata": {},
   "outputs": [],
   "source": [
    "class Graph: \n",
    "    def __init__(self , edges , node):\n",
    "        self.edges = edges\n",
    "        self.node = node\n",
    "        self.adj_dict = self.create_adj_dict()\n",
    "        self.adj_matrix = self.create_adj_matrix()  \n",
    "        \n",
    "    def create_adj_dict(self):\n",
    "        adj_dict = {}  \n",
    "        for start , dist, _ in self.edges: \n",
    "            if start in adj_dict: \n",
    "                adj_dict[start].append(dist)\n",
    "            else:\n",
    "                adj_dict[start] = [dist]\n",
    "        return adj_dict\n",
    "            \n",
    "    def get_path(self ,start , dist ,path=[]): \n",
    "        # This function gives us all the paths\n",
    "        # This is a recursive function\n",
    "        path = path + [start]\n",
    "        if start == dist : \n",
    "            return [path]\n",
    "        if start not in self.adj_dict: \n",
    "            return[]\n",
    "        paths = []\n",
    "        for vertex in self.adj_dict[start]: \n",
    "            if vertex not in path: \n",
    "                new_paths = self.get_path(vertex , dist , path)\n",
    "                for p in new_paths: \n",
    "                    paths.append(p)\n",
    "        return paths            \n",
    "    \n",
    "    def shortest_path(self ,start , dist ,path=[]):\n",
    "        path = path + [start]\n",
    "        if start == dist : \n",
    "            return path\n",
    "        if start not in self.adj_dict: \n",
    "            return None \n",
    "        shortest_path = None\n",
    "        for vertex in self.adj_dict[start]: \n",
    "            if vertex not in path: \n",
    "                new_sp = self.shortest_path(vertex , dist , path)\n",
    "                if new_sp: \n",
    "                    if shortest_path is None or len(new_sp) < len(shortest_path): \n",
    "                        shortest_path = new_sp\n",
    "        return shortest_path\n",
    "    \n",
    "    def create_adj_matrix(self): \n",
    "        matrix = [[0 for _ in self.nodes] for i in self.node]\n",
    "        print(matrix)\n",
    "        return None\n",
    "        "
   ]
  },
  {
   "cell_type": "code",
   "execution_count": 9,
   "metadata": {},
   "outputs": [],
   "source": [
    "nodes = ['Kerman' , 'Yazd' , 'Mashhad' , 'Esfahan' , 'Tehran']\n",
    "\n",
    "\n",
    "{\n",
    "    \n",
    "    'Kerman' : ['Yazd' , 'Esfahan'],\n",
    "    'Esfahan': ['Mashhad'],\n",
    "    'Yazd' : ['Mashhad' ,'Esfahan'],\n",
    "    'Mashhad':['Tehran']\n",
    "    \n",
    "}\n",
    "\n",
    "\n",
    "ru = [\n",
    "    ('Kerman'  , 'Yazd'    , 15),\n",
    "    ('Kerman'  , 'Esfahan' , 25),\n",
    "    ('Esfahan' , 'Mashhad' , 8),\n",
    "    ('Yazd'    , 'Mashhad' , 10),\n",
    "    ('Yazd'    , 'Esfahan' , 2),\n",
    "    ('Mashhad' , 'Tehran'  , 4)\n",
    "]"
   ]
  },
  {
   "cell_type": "code",
   "execution_count": 11,
   "metadata": {},
   "outputs": [
    {
     "ename": "AttributeError",
     "evalue": "'Graph' object has no attribute 'nodes'",
     "output_type": "error",
     "traceback": [
      "\u001b[0;31m---------------------------------------------------------------------------\u001b[0m",
      "\u001b[0;31mAttributeError\u001b[0m                            Traceback (most recent call last)",
      "Cell \u001b[0;32mIn[11], line 1\u001b[0m\n\u001b[0;32m----> 1\u001b[0m qu \u001b[38;5;241m=\u001b[39m Graph(ru , nodes)\n",
      "Cell \u001b[0;32mIn[6], line 6\u001b[0m, in \u001b[0;36mGraph.__init__\u001b[0;34m(self, edges, node)\u001b[0m\n\u001b[1;32m      4\u001b[0m \u001b[38;5;28mself\u001b[39m\u001b[38;5;241m.\u001b[39mnode \u001b[38;5;241m=\u001b[39m node\n\u001b[1;32m      5\u001b[0m \u001b[38;5;28mself\u001b[39m\u001b[38;5;241m.\u001b[39madj_dict \u001b[38;5;241m=\u001b[39m \u001b[38;5;28mself\u001b[39m\u001b[38;5;241m.\u001b[39mcreate_adj_dict()\n\u001b[0;32m----> 6\u001b[0m \u001b[38;5;28mself\u001b[39m\u001b[38;5;241m.\u001b[39madj_matrix \u001b[38;5;241m=\u001b[39m \u001b[38;5;28mself\u001b[39m\u001b[38;5;241m.\u001b[39mcreate_adj_matrix()\n",
      "Cell \u001b[0;32mIn[6], line 49\u001b[0m, in \u001b[0;36mGraph.create_adj_matrix\u001b[0;34m(self)\u001b[0m\n\u001b[1;32m     48\u001b[0m \u001b[38;5;28;01mdef\u001b[39;00m \u001b[38;5;21mcreate_adj_matrix\u001b[39m(\u001b[38;5;28mself\u001b[39m): \n\u001b[0;32m---> 49\u001b[0m     matrix \u001b[38;5;241m=\u001b[39m [[\u001b[38;5;241m0\u001b[39m \u001b[38;5;28;01mfor\u001b[39;00m _ \u001b[38;5;129;01min\u001b[39;00m \u001b[38;5;28mself\u001b[39m\u001b[38;5;241m.\u001b[39mnodes] \u001b[38;5;28;01mfor\u001b[39;00m i \u001b[38;5;129;01min\u001b[39;00m \u001b[38;5;28mself\u001b[39m\u001b[38;5;241m.\u001b[39mnode]\n\u001b[1;32m     50\u001b[0m     \u001b[38;5;28mprint\u001b[39m(matrix)\n\u001b[1;32m     51\u001b[0m     \u001b[38;5;28;01mreturn\u001b[39;00m \u001b[38;5;28;01mNone\u001b[39;00m\n",
      "\u001b[0;31mAttributeError\u001b[0m: 'Graph' object has no attribute 'nodes'"
     ]
    }
   ],
   "source": [
    "qu = Graph(ru , nodes)\n"
   ]
  },
  {
   "cell_type": "code",
   "execution_count": 5,
   "metadata": {},
   "outputs": [
    {
     "data": {
      "text/plain": [
       "[['Kerman', 'Yazd', 'Mashhad', 'Tehran'],\n",
       " ['Kerman', 'Yazd', 'Esfahan', 'Mashhad', 'Tehran'],\n",
       " ['Kerman', 'Esfahan', 'Mashhad', 'Tehran']]"
      ]
     },
     "execution_count": 5,
     "metadata": {},
     "output_type": "execute_result"
    }
   ],
   "source": [
    "qu.get_path('Kerman' , 'Tehran')"
   ]
  },
  {
   "cell_type": "code",
   "execution_count": null,
   "metadata": {},
   "outputs": [],
   "source": []
  }
 ],
 "metadata": {
  "kernelspec": {
   "display_name": "base",
   "language": "python",
   "name": "python3"
  },
  "language_info": {
   "codemirror_mode": {
    "name": "ipython",
    "version": 3
   },
   "file_extension": ".py",
   "mimetype": "text/x-python",
   "name": "python",
   "nbconvert_exporter": "python",
   "pygments_lexer": "ipython3",
   "version": "3.12.7"
  }
 },
 "nbformat": 4,
 "nbformat_minor": 2
}
