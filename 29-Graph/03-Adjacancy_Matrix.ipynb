{
 "cells": [
  {
   "cell_type": "code",
   "execution_count": 26,
   "metadata": {},
   "outputs": [],
   "source": [
    "class Graph:  # for directed graph\n",
    "    def __init__(self , edges , node):\n",
    "        self.edges = edges\n",
    "        self.node = node\n",
    "        self.adj_dict = self.create_adj_dict()\n",
    "        self.adj_matrix = self.create_adj_matrix()  \n",
    "        \n",
    "    def create_adj_dict(self):\n",
    "        adj_dict = {}  \n",
    "        for start , dist, _ in self.edges: \n",
    "            if start in adj_dict: \n",
    "                adj_dict[start].append(dist)\n",
    "            else:\n",
    "                adj_dict[start] = [dist]\n",
    "        return adj_dict\n",
    "            \n",
    "    def get_path(self ,start , dist ,path=[]): \n",
    "        # This function gives us all the paths\n",
    "        # This is a recursive function\n",
    "        path = path + [start]\n",
    "        if start == dist : \n",
    "            return [path]\n",
    "        if start not in self.adj_dict: \n",
    "            return[]\n",
    "        paths = []\n",
    "        for vertex in self.adj_dict[start]: \n",
    "            if vertex not in path: \n",
    "                new_paths = self.get_path(vertex , dist , path)\n",
    "                for p in new_paths: \n",
    "                    paths.append(p)\n",
    "        return paths            \n",
    "    \n",
    "    def distance(self , paths): \n",
    "        distance = 0\n",
    "        for i in range(len(paths)):\n",
    "            for j in range(len(paths[i])-1): \n",
    "                start_i = self.node.index(paths[i][j])\n",
    "                dist_i = self.node.index(paths[i][j+1])\n",
    "                distance += self.adj_matrix[start_i][dist_i]\n",
    "            paths[i].append(distance)\n",
    "            distance = 0\n",
    "        return paths        \n",
    "    \n",
    "    def get_path_cost(self ,start ,dist): \n",
    "        paths = self.get_path(start , dist)\n",
    "        paths = self.distance(paths)\n",
    "        return paths\n",
    "    \n",
    "    def shortest_path_cost(self ,start , dist):\n",
    "        path = [self.shortest_path(start , dist)]\n",
    "        path = self.distance(path)\n",
    "        return path         \n",
    "        \n",
    "    def shortest_path(self ,start , dist ,path=[]):\n",
    "        path = path + [start]\n",
    "        if start == dist : \n",
    "            return path\n",
    "        if start not in self.adj_dict: \n",
    "            return None \n",
    "        shortest_path = None\n",
    "        for vertex in self.adj_dict[start]: \n",
    "            if vertex not in path: \n",
    "                new_sp = self.shortest_path(vertex , dist , path)\n",
    "                if new_sp: \n",
    "                    if shortest_path is None or len(new_sp) < len(shortest_path): \n",
    "                        shortest_path = new_sp\n",
    "        return shortest_path\n",
    "    \n",
    "    def create_adj_matrix(self): \n",
    "        matrix = [[0 for _ in self.node] for i in self.node]\n",
    "        for route in self.edges:\n",
    "            start = self.node.index(route[0])\n",
    "            dist = self.node.index(route[1])\n",
    "            matrix[start][dist] = route[2]\n",
    "        return matrix  \n",
    "    \n",
    "      \n",
    "            \n",
    "        "
   ]
  },
  {
   "cell_type": "code",
   "execution_count": 27,
   "metadata": {},
   "outputs": [],
   "source": [
    "nodes = ['Kerman' , 'Yazd' , 'Mashhad' , 'Esfahan' , 'Tehran']\n",
    "\n",
    "\n",
    "{\n",
    "    \n",
    "    'Kerman' : ['Yazd' , 'Esfahan'],\n",
    "    'Esfahan': ['Mashhad'],\n",
    "    'Yazd' : ['Mashhad' ,'Esfahan'],\n",
    "    'Mashhad':['Tehran']\n",
    "    \n",
    "}\n",
    "\n",
    "\n",
    "ru = [\n",
    "    ('Kerman'  , 'Yazd'    , 15),\n",
    "    ('Kerman'  , 'Esfahan' , 25),\n",
    "    ('Esfahan' , 'Mashhad' , 8),\n",
    "    ('Yazd'    , 'Mashhad' , 10),\n",
    "    ('Yazd'    , 'Esfahan' , 2),\n",
    "    ('Mashhad' , 'Tehran'  , 4)\n",
    "]"
   ]
  },
  {
   "cell_type": "code",
   "execution_count": 28,
   "metadata": {},
   "outputs": [],
   "source": [
    "qu = Graph(ru , nodes)\n"
   ]
  },
  {
   "cell_type": "code",
   "execution_count": 29,
   "metadata": {},
   "outputs": [
    {
     "data": {
      "text/plain": [
       "[['Kerman', 'Yazd', 'Mashhad', 'Tehran'],\n",
       " ['Kerman', 'Yazd', 'Esfahan', 'Mashhad', 'Tehran'],\n",
       " ['Kerman', 'Esfahan', 'Mashhad', 'Tehran']]"
      ]
     },
     "execution_count": 29,
     "metadata": {},
     "output_type": "execute_result"
    }
   ],
   "source": [
    "qu.get_path('Kerman' , 'Tehran')"
   ]
  },
  {
   "cell_type": "code",
   "execution_count": 30,
   "metadata": {},
   "outputs": [
    {
     "data": {
      "text/plain": [
       "[['Kerman', 'Yazd', 'Mashhad', 'Tehran', 29],\n",
       " ['Kerman', 'Yazd', 'Esfahan', 'Mashhad', 'Tehran', 29],\n",
       " ['Kerman', 'Esfahan', 'Mashhad', 'Tehran', 37]]"
      ]
     },
     "execution_count": 30,
     "metadata": {},
     "output_type": "execute_result"
    }
   ],
   "source": [
    "qu.get_path_cost('Kerman' , 'Tehran')"
   ]
  },
  {
   "cell_type": "code",
   "execution_count": 31,
   "metadata": {},
   "outputs": [],
   "source": [
    "x = qu.get_path('Kerman' , 'Tehran')"
   ]
  },
  {
   "cell_type": "code",
   "execution_count": 32,
   "metadata": {},
   "outputs": [
    {
     "data": {
      "text/plain": [
       "[['Kerman', 'Yazd', 'Mashhad', 'Tehran', 29],\n",
       " ['Kerman', 'Yazd', 'Esfahan', 'Mashhad', 'Tehran', 29],\n",
       " ['Kerman', 'Esfahan', 'Mashhad', 'Tehran', 37]]"
      ]
     },
     "execution_count": 32,
     "metadata": {},
     "output_type": "execute_result"
    }
   ],
   "source": [
    "qu.distance(x)"
   ]
  },
  {
   "cell_type": "code",
   "execution_count": 33,
   "metadata": {},
   "outputs": [
    {
     "data": {
      "text/plain": [
       "[['Kerman', 'Yazd', 'Mashhad', 'Tehran', 29]]"
      ]
     },
     "execution_count": 33,
     "metadata": {},
     "output_type": "execute_result"
    }
   ],
   "source": [
    "qu.shortest_path_cost('Kerman' , 'Tehran')"
   ]
  },
  {
   "cell_type": "code",
   "execution_count": null,
   "metadata": {},
   "outputs": [],
   "source": []
  }
 ],
 "metadata": {
  "kernelspec": {
   "display_name": "base",
   "language": "python",
   "name": "python3"
  },
  "language_info": {
   "codemirror_mode": {
    "name": "ipython",
    "version": 3
   },
   "file_extension": ".py",
   "mimetype": "text/x-python",
   "name": "python",
   "nbconvert_exporter": "python",
   "pygments_lexer": "ipython3",
   "version": "3.12.7"
  }
 },
 "nbformat": 4,
 "nbformat_minor": 2
}
